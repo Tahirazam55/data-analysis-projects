{
  "nbformat": 4,
  "nbformat_minor": 0,
  "metadata": {
    "colab": {
      "provenance": []
    },
    "kernelspec": {
      "name": "python3",
      "display_name": "Python 3"
    },
    "language_info": {
      "name": "python"
    }
  },
  "cells": [
    {
      "cell_type": "markdown",
      "source": [
        "# **About Dataset**\n",
        "## Introduction\n",
        "This datasets about Netflix Movies & TV Shows. Datasets have 12 columns with some null values. To analysis of dataset are used Pandas, plotly.express and Datetime libraries. Analysis process I divided into several parts for step wise analysis and to find out trending questions on social media for Bollywood actors and actress.\n",
        "### New Section\n",
        "## **Data Manipulation**\n",
        "# Missing Data\n",
        "There are many representations of missing data. They are Null values, missing values. I used some of methods used in data analysis process to clean missing values.\n",
        "\n",
        "# Data Munging\n",
        "# String Method\n",
        "There I used some string method on column such as 'cast', 'Lested_in' to extract data\n",
        "\n",
        "# Datetime data type\n",
        "Converting an object type into datatype objects with the to_datetime function then we have a datatime object, can extract various part of data such as year, month and day\n",
        "\n",
        "# **EDA**\n",
        "Here, I find out several eye catching question. the following questions are like as:\n",
        "\n",
        "1-Show the all Movies & TV Shows released by month\n",
        "\n",
        "2-Count the all types of unique rating & which\n",
        "rating are with most number\n",
        "\n",
        "3-Salman, Shah Rukh and Akshay Kumar all movie\n",
        "\n",
        "4-Find out the Movies & Series have Maximum time length\n",
        "\n",
        "5-Year on Year show added on Netflix by its type\n",
        "\n",
        "6-Akshay Kumar all comedies movies, Shah Rukh\n",
        "\n",
        "7-movies with Kajol and Salman-Akshay Movies\n",
        "\n",
        "8-Who Director has made the most TV Shows\n",
        "\n",
        "9-Actors and Actress who have given most Number of Movies\n",
        "\n",
        "10-Find out which types of genre has most movies and TV Shows"
      ],
      "metadata": {
        "id": "7LKiivnxbjkc"
      }
    },
    {
      "cell_type": "markdown",
      "source": [
        "# importing dataset from Kaggle"
      ],
      "metadata": {
        "id": "a4TqgHQ6d-o1"
      }
    },
    {
      "cell_type": "code",
      "source": [],
      "metadata": {
        "id": "3eHDo7pWarzz"
      },
      "execution_count": null,
      "outputs": []
    },
    {
      "cell_type": "code",
      "metadata": {
        "colab": {
          "base_uri": "https://localhost:8080/"
        },
        "id": "7efb6a7d",
        "outputId": "727f0813-311b-4337-9e54-69b32216a20d"
      },
      "source": [
        "import os\n",
        "import json\n",
        "\n",
        "home_dir = os.path.expanduser(\"~\")\n",
        "kaggle_dir = os.path.join(home_dir, \".kaggle\")\n",
        "kaggle_json_path = os.path.join(kaggle_dir, \"kaggle.json\")\n",
        "\n",
        "os.makedirs(kaggle_dir, exist_ok=True)\n",
        "\n",
        "kaggle_credentials = {\"username\":\"tahirazam\",\"key\":\"5b76ff044a56df536545b584f5abb14b\"}\n",
        "\n",
        "with open(kaggle_json_path, \"w\") as f:\n",
        "    json.dump(kaggle_credentials, f)\n",
        "\n",
        "os.chmod(kaggle_json_path, 0o600)\n",
        "\n",
        "print(\"Kaggle API key updated successfully.\")"
      ],
      "execution_count": 1,
      "outputs": [
        {
          "output_type": "stream",
          "name": "stdout",
          "text": [
            "Kaggle API key updated successfully.\n"
          ]
        }
      ]
    },
    {
      "cell_type": "code",
      "metadata": {
        "colab": {
          "base_uri": "https://localhost:8080/"
        },
        "id": "e0a82a05",
        "outputId": "f59a206b-61cd-417a-8617-0f8017493cf4"
      },
      "source": [
        "!kaggle datasets download -d ankulsharma150/netflix-data-analysis"
      ],
      "execution_count": 2,
      "outputs": [
        {
          "output_type": "stream",
          "name": "stdout",
          "text": [
            "Dataset URL: https://www.kaggle.com/datasets/ankulsharma150/netflix-data-analysis\n",
            "License(s): other\n",
            "Downloading netflix-data-analysis.zip to /content\n",
            "  0% 0.00/1.34M [00:00<?, ?B/s]\n",
            "100% 1.34M/1.34M [00:00<00:00, 559MB/s]\n"
          ]
        }
      ]
    },
    {
      "cell_type": "code",
      "metadata": {
        "colab": {
          "base_uri": "https://localhost:8080/",
          "height": 397
        },
        "id": "AJXe1roma7YH",
        "outputId": "e5b72c5c-a4ae-4fa1-ae0f-3d0eb06c411d"
      },
      "source": [
        "# The zip file has already been extracted in the previous step.\n",
        "# Now, read the extracted file into a pandas DataFrame using the correct filename.\n",
        "csv_file_name = 'netflix_movies (1).csv'\n",
        "\n",
        "df = pd.read_csv(csv_file_name)\n",
        "\n",
        "display(df.head())"
      ],
      "execution_count": 4,
      "outputs": [
        {
          "output_type": "display_data",
          "data": {
            "text/plain": [
              "  show_id     type                  title         director  \\\n",
              "0      s1    Movie   Dick Johnson Is Dead  Kirsten Johnson   \n",
              "1      s2  TV Show          Blood & Water              NaN   \n",
              "2      s3  TV Show              Ganglands  Julien Leclercq   \n",
              "3      s4  TV Show  Jailbirds New Orleans              NaN   \n",
              "4      s5  TV Show           Kota Factory              NaN   \n",
              "\n",
              "                                                cast        country  \\\n",
              "0                                                NaN  United States   \n",
              "1  Ama Qamata, Khosi Ngema, Gail Mabalane, Thaban...   South Africa   \n",
              "2  Sami Bouajila, Tracy Gotoas, Samuel Jouy, Nabi...            NaN   \n",
              "3                                                NaN            NaN   \n",
              "4  Mayur More, Jitendra Kumar, Ranjan Raj, Alam K...          India   \n",
              "\n",
              "           date_added  release_year rating   duration  \\\n",
              "0  September 25, 2021          2020  PG-13     90 min   \n",
              "1  September 24, 2021          2021  TV-MA  2 Seasons   \n",
              "2  September 24, 2021          2021  TV-MA   1 Season   \n",
              "3  September 24, 2021          2021  TV-MA   1 Season   \n",
              "4  September 24, 2021          2021  TV-MA  2 Seasons   \n",
              "\n",
              "                                           listed_in  \\\n",
              "0                                      Documentaries   \n",
              "1    International TV Shows, TV Dramas, TV Mysteries   \n",
              "2  Crime TV Shows, International TV Shows, TV Act...   \n",
              "3                             Docuseries, Reality TV   \n",
              "4  International TV Shows, Romantic TV Shows, TV ...   \n",
              "\n",
              "                                         description  \n",
              "0  As her father nears the end of his life, filmm...  \n",
              "1  After crossing paths at a party, a Cape Town t...  \n",
              "2  To protect his family from a powerful drug lor...  \n",
              "3  Feuds, flirtations and toilet talk go down amo...  \n",
              "4  In a city of coaching centers known to train I...  "
            ],
            "text/html": [
              "\n",
              "  <div id=\"df-9ba83576-a052-422f-ae5d-d2af903fb219\" class=\"colab-df-container\">\n",
              "    <div>\n",
              "<style scoped>\n",
              "    .dataframe tbody tr th:only-of-type {\n",
              "        vertical-align: middle;\n",
              "    }\n",
              "\n",
              "    .dataframe tbody tr th {\n",
              "        vertical-align: top;\n",
              "    }\n",
              "\n",
              "    .dataframe thead th {\n",
              "        text-align: right;\n",
              "    }\n",
              "</style>\n",
              "<table border=\"1\" class=\"dataframe\">\n",
              "  <thead>\n",
              "    <tr style=\"text-align: right;\">\n",
              "      <th></th>\n",
              "      <th>show_id</th>\n",
              "      <th>type</th>\n",
              "      <th>title</th>\n",
              "      <th>director</th>\n",
              "      <th>cast</th>\n",
              "      <th>country</th>\n",
              "      <th>date_added</th>\n",
              "      <th>release_year</th>\n",
              "      <th>rating</th>\n",
              "      <th>duration</th>\n",
              "      <th>listed_in</th>\n",
              "      <th>description</th>\n",
              "    </tr>\n",
              "  </thead>\n",
              "  <tbody>\n",
              "    <tr>\n",
              "      <th>0</th>\n",
              "      <td>s1</td>\n",
              "      <td>Movie</td>\n",
              "      <td>Dick Johnson Is Dead</td>\n",
              "      <td>Kirsten Johnson</td>\n",
              "      <td>NaN</td>\n",
              "      <td>United States</td>\n",
              "      <td>September 25, 2021</td>\n",
              "      <td>2020</td>\n",
              "      <td>PG-13</td>\n",
              "      <td>90 min</td>\n",
              "      <td>Documentaries</td>\n",
              "      <td>As her father nears the end of his life, filmm...</td>\n",
              "    </tr>\n",
              "    <tr>\n",
              "      <th>1</th>\n",
              "      <td>s2</td>\n",
              "      <td>TV Show</td>\n",
              "      <td>Blood &amp; Water</td>\n",
              "      <td>NaN</td>\n",
              "      <td>Ama Qamata, Khosi Ngema, Gail Mabalane, Thaban...</td>\n",
              "      <td>South Africa</td>\n",
              "      <td>September 24, 2021</td>\n",
              "      <td>2021</td>\n",
              "      <td>TV-MA</td>\n",
              "      <td>2 Seasons</td>\n",
              "      <td>International TV Shows, TV Dramas, TV Mysteries</td>\n",
              "      <td>After crossing paths at a party, a Cape Town t...</td>\n",
              "    </tr>\n",
              "    <tr>\n",
              "      <th>2</th>\n",
              "      <td>s3</td>\n",
              "      <td>TV Show</td>\n",
              "      <td>Ganglands</td>\n",
              "      <td>Julien Leclercq</td>\n",
              "      <td>Sami Bouajila, Tracy Gotoas, Samuel Jouy, Nabi...</td>\n",
              "      <td>NaN</td>\n",
              "      <td>September 24, 2021</td>\n",
              "      <td>2021</td>\n",
              "      <td>TV-MA</td>\n",
              "      <td>1 Season</td>\n",
              "      <td>Crime TV Shows, International TV Shows, TV Act...</td>\n",
              "      <td>To protect his family from a powerful drug lor...</td>\n",
              "    </tr>\n",
              "    <tr>\n",
              "      <th>3</th>\n",
              "      <td>s4</td>\n",
              "      <td>TV Show</td>\n",
              "      <td>Jailbirds New Orleans</td>\n",
              "      <td>NaN</td>\n",
              "      <td>NaN</td>\n",
              "      <td>NaN</td>\n",
              "      <td>September 24, 2021</td>\n",
              "      <td>2021</td>\n",
              "      <td>TV-MA</td>\n",
              "      <td>1 Season</td>\n",
              "      <td>Docuseries, Reality TV</td>\n",
              "      <td>Feuds, flirtations and toilet talk go down amo...</td>\n",
              "    </tr>\n",
              "    <tr>\n",
              "      <th>4</th>\n",
              "      <td>s5</td>\n",
              "      <td>TV Show</td>\n",
              "      <td>Kota Factory</td>\n",
              "      <td>NaN</td>\n",
              "      <td>Mayur More, Jitendra Kumar, Ranjan Raj, Alam K...</td>\n",
              "      <td>India</td>\n",
              "      <td>September 24, 2021</td>\n",
              "      <td>2021</td>\n",
              "      <td>TV-MA</td>\n",
              "      <td>2 Seasons</td>\n",
              "      <td>International TV Shows, Romantic TV Shows, TV ...</td>\n",
              "      <td>In a city of coaching centers known to train I...</td>\n",
              "    </tr>\n",
              "  </tbody>\n",
              "</table>\n",
              "</div>\n",
              "    <div class=\"colab-df-buttons\">\n",
              "\n",
              "  <div class=\"colab-df-container\">\n",
              "    <button class=\"colab-df-convert\" onclick=\"convertToInteractive('df-9ba83576-a052-422f-ae5d-d2af903fb219')\"\n",
              "            title=\"Convert this dataframe to an interactive table.\"\n",
              "            style=\"display:none;\">\n",
              "\n",
              "  <svg xmlns=\"http://www.w3.org/2000/svg\" height=\"24px\" viewBox=\"0 -960 960 960\">\n",
              "    <path d=\"M120-120v-720h720v720H120Zm60-500h600v-160H180v160Zm220 220h160v-160H400v160Zm0 220h160v-160H400v160ZM180-400h160v-160H180v160Zm440 0h160v-160H620v160ZM180-180h160v-160H180v160Zm440 0h160v-160H620v160Z\"/>\n",
              "  </svg>\n",
              "    </button>\n",
              "\n",
              "  <style>\n",
              "    .colab-df-container {\n",
              "      display:flex;\n",
              "      gap: 12px;\n",
              "    }\n",
              "\n",
              "    .colab-df-convert {\n",
              "      background-color: #E8F0FE;\n",
              "      border: none;\n",
              "      border-radius: 50%;\n",
              "      cursor: pointer;\n",
              "      display: none;\n",
              "      fill: #1967D2;\n",
              "      height: 32px;\n",
              "      padding: 0 0 0 0;\n",
              "      width: 32px;\n",
              "    }\n",
              "\n",
              "    .colab-df-convert:hover {\n",
              "      background-color: #E2EBFA;\n",
              "      box-shadow: 0px 1px 2px rgba(60, 64, 67, 0.3), 0px 1px 3px 1px rgba(60, 64, 67, 0.15);\n",
              "      fill: #174EA6;\n",
              "    }\n",
              "\n",
              "    .colab-df-buttons div {\n",
              "      margin-bottom: 4px;\n",
              "    }\n",
              "\n",
              "    [theme=dark] .colab-df-convert {\n",
              "      background-color: #3B4455;\n",
              "      fill: #D2E3FC;\n",
              "    }\n",
              "\n",
              "    [theme=dark] .colab-df-convert:hover {\n",
              "      background-color: #434B5C;\n",
              "      box-shadow: 0px 1px 3px 1px rgba(0, 0, 0, 0.15);\n",
              "      filter: drop-shadow(0px 1px 2px rgba(0, 0, 0, 0.3));\n",
              "      fill: #FFFFFF;\n",
              "    }\n",
              "  </style>\n",
              "\n",
              "    <script>\n",
              "      const buttonEl =\n",
              "        document.querySelector('#df-9ba83576-a052-422f-ae5d-d2af903fb219 button.colab-df-convert');\n",
              "      buttonEl.style.display =\n",
              "        google.colab.kernel.accessAllowed ? 'block' : 'none';\n",
              "\n",
              "      async function convertToInteractive(key) {\n",
              "        const element = document.querySelector('#df-9ba83576-a052-422f-ae5d-d2af903fb219');\n",
              "        const dataTable =\n",
              "          await google.colab.kernel.invokeFunction('convertToInteractive',\n",
              "                                                    [key], {});\n",
              "        if (!dataTable) return;\n",
              "\n",
              "        const docLinkHtml = 'Like what you see? Visit the ' +\n",
              "          '<a target=\"_blank\" href=https://colab.research.google.com/notebooks/data_table.ipynb>data table notebook</a>'\n",
              "          + ' to learn more about interactive tables.';\n",
              "        element.innerHTML = '';\n",
              "        dataTable['output_type'] = 'display_data';\n",
              "        await google.colab.output.renderOutput(dataTable, element);\n",
              "        const docLink = document.createElement('div');\n",
              "        docLink.innerHTML = docLinkHtml;\n",
              "        element.appendChild(docLink);\n",
              "      }\n",
              "    </script>\n",
              "  </div>\n",
              "\n",
              "\n",
              "    <div id=\"df-f59b5031-185a-485b-a5d9-e9114e564c1c\">\n",
              "      <button class=\"colab-df-quickchart\" onclick=\"quickchart('df-f59b5031-185a-485b-a5d9-e9114e564c1c')\"\n",
              "                title=\"Suggest charts\"\n",
              "                style=\"display:none;\">\n",
              "\n",
              "<svg xmlns=\"http://www.w3.org/2000/svg\" height=\"24px\"viewBox=\"0 0 24 24\"\n",
              "     width=\"24px\">\n",
              "    <g>\n",
              "        <path d=\"M19 3H5c-1.1 0-2 .9-2 2v14c0 1.1.9 2 2 2h14c1.1 0 2-.9 2-2V5c0-1.1-.9-2-2-2zM9 17H7v-7h2v7zm4 0h-2V7h2v10zm4 0h-2v-4h2v4z\"/>\n",
              "    </g>\n",
              "</svg>\n",
              "      </button>\n",
              "\n",
              "<style>\n",
              "  .colab-df-quickchart {\n",
              "      --bg-color: #E8F0FE;\n",
              "      --fill-color: #1967D2;\n",
              "      --hover-bg-color: #E2EBFA;\n",
              "      --hover-fill-color: #174EA6;\n",
              "      --disabled-fill-color: #AAA;\n",
              "      --disabled-bg-color: #DDD;\n",
              "  }\n",
              "\n",
              "  [theme=dark] .colab-df-quickchart {\n",
              "      --bg-color: #3B4455;\n",
              "      --fill-color: #D2E3FC;\n",
              "      --hover-bg-color: #434B5C;\n",
              "      --hover-fill-color: #FFFFFF;\n",
              "      --disabled-bg-color: #3B4455;\n",
              "      --disabled-fill-color: #666;\n",
              "  }\n",
              "\n",
              "  .colab-df-quickchart {\n",
              "    background-color: var(--bg-color);\n",
              "    border: none;\n",
              "    border-radius: 50%;\n",
              "    cursor: pointer;\n",
              "    display: none;\n",
              "    fill: var(--fill-color);\n",
              "    height: 32px;\n",
              "    padding: 0;\n",
              "    width: 32px;\n",
              "  }\n",
              "\n",
              "  .colab-df-quickchart:hover {\n",
              "    background-color: var(--hover-bg-color);\n",
              "    box-shadow: 0 1px 2px rgba(60, 64, 67, 0.3), 0 1px 3px 1px rgba(60, 64, 67, 0.15);\n",
              "    fill: var(--button-hover-fill-color);\n",
              "  }\n",
              "\n",
              "  .colab-df-quickchart-complete:disabled,\n",
              "  .colab-df-quickchart-complete:disabled:hover {\n",
              "    background-color: var(--disabled-bg-color);\n",
              "    fill: var(--disabled-fill-color);\n",
              "    box-shadow: none;\n",
              "  }\n",
              "\n",
              "  .colab-df-spinner {\n",
              "    border: 2px solid var(--fill-color);\n",
              "    border-color: transparent;\n",
              "    border-bottom-color: var(--fill-color);\n",
              "    animation:\n",
              "      spin 1s steps(1) infinite;\n",
              "  }\n",
              "\n",
              "  @keyframes spin {\n",
              "    0% {\n",
              "      border-color: transparent;\n",
              "      border-bottom-color: var(--fill-color);\n",
              "      border-left-color: var(--fill-color);\n",
              "    }\n",
              "    20% {\n",
              "      border-color: transparent;\n",
              "      border-left-color: var(--fill-color);\n",
              "      border-top-color: var(--fill-color);\n",
              "    }\n",
              "    30% {\n",
              "      border-color: transparent;\n",
              "      border-left-color: var(--fill-color);\n",
              "      border-top-color: var(--fill-color);\n",
              "      border-right-color: var(--fill-color);\n",
              "    }\n",
              "    40% {\n",
              "      border-color: transparent;\n",
              "      border-right-color: var(--fill-color);\n",
              "      border-top-color: var(--fill-color);\n",
              "    }\n",
              "    60% {\n",
              "      border-color: transparent;\n",
              "      border-right-color: var(--fill-color);\n",
              "    }\n",
              "    80% {\n",
              "      border-color: transparent;\n",
              "      border-right-color: var(--fill-color);\n",
              "      border-bottom-color: var(--fill-color);\n",
              "    }\n",
              "    90% {\n",
              "      border-color: transparent;\n",
              "      border-bottom-color: var(--fill-color);\n",
              "    }\n",
              "  }\n",
              "</style>\n",
              "\n",
              "      <script>\n",
              "        async function quickchart(key) {\n",
              "          const quickchartButtonEl =\n",
              "            document.querySelector('#' + key + ' button');\n",
              "          quickchartButtonEl.disabled = true;  // To prevent multiple clicks.\n",
              "          quickchartButtonEl.classList.add('colab-df-spinner');\n",
              "          try {\n",
              "            const charts = await google.colab.kernel.invokeFunction(\n",
              "                'suggestCharts', [key], {});\n",
              "          } catch (error) {\n",
              "            console.error('Error during call to suggestCharts:', error);\n",
              "          }\n",
              "          quickchartButtonEl.classList.remove('colab-df-spinner');\n",
              "          quickchartButtonEl.classList.add('colab-df-quickchart-complete');\n",
              "        }\n",
              "        (() => {\n",
              "          let quickchartButtonEl =\n",
              "            document.querySelector('#df-f59b5031-185a-485b-a5d9-e9114e564c1c button');\n",
              "          quickchartButtonEl.style.display =\n",
              "            google.colab.kernel.accessAllowed ? 'block' : 'none';\n",
              "        })();\n",
              "      </script>\n",
              "    </div>\n",
              "\n",
              "    </div>\n",
              "  </div>\n"
            ],
            "application/vnd.google.colaboratory.intrinsic+json": {
              "type": "dataframe",
              "summary": "{\n  \"name\": \"display(df\",\n  \"rows\": 5,\n  \"fields\": [\n    {\n      \"column\": \"show_id\",\n      \"properties\": {\n        \"dtype\": \"string\",\n        \"num_unique_values\": 5,\n        \"samples\": [\n          \"s2\",\n          \"s5\",\n          \"s3\"\n        ],\n        \"semantic_type\": \"\",\n        \"description\": \"\"\n      }\n    },\n    {\n      \"column\": \"type\",\n      \"properties\": {\n        \"dtype\": \"category\",\n        \"num_unique_values\": 2,\n        \"samples\": [\n          \"TV Show\",\n          \"Movie\"\n        ],\n        \"semantic_type\": \"\",\n        \"description\": \"\"\n      }\n    },\n    {\n      \"column\": \"title\",\n      \"properties\": {\n        \"dtype\": \"string\",\n        \"num_unique_values\": 5,\n        \"samples\": [\n          \"Blood & Water\",\n          \"Kota Factory\"\n        ],\n        \"semantic_type\": \"\",\n        \"description\": \"\"\n      }\n    },\n    {\n      \"column\": \"director\",\n      \"properties\": {\n        \"dtype\": \"category\",\n        \"num_unique_values\": 2,\n        \"samples\": [\n          \"Julien Leclercq\",\n          \"Kirsten Johnson\"\n        ],\n        \"semantic_type\": \"\",\n        \"description\": \"\"\n      }\n    },\n    {\n      \"column\": \"cast\",\n      \"properties\": {\n        \"dtype\": \"string\",\n        \"num_unique_values\": 3,\n        \"samples\": [\n          \"Ama Qamata, Khosi Ngema, Gail Mabalane, Thabang Molaba, Dillon Windvogel, Natasha Thahane, Arno Greeff, Xolile Tshabalala, Getmore Sithole, Cindy Mahlangu, Ryle De Morny, Greteli Fincham, Sello Maake Ka-Ncube, Odwa Gwanya, Mekaila Mathys, Sandi Schultz, Duane Williams, Shamilla Miller, Patrick Mofokeng\",\n          \"Sami Bouajila, Tracy Gotoas, Samuel Jouy, Nabiha Akkari, Sofia Lesaffre, Salim Kechiouche, Noureddine Farihi, Geert Van Rampelberg, Bakary Diombera\"\n        ],\n        \"semantic_type\": \"\",\n        \"description\": \"\"\n      }\n    },\n    {\n      \"column\": \"country\",\n      \"properties\": {\n        \"dtype\": \"string\",\n        \"num_unique_values\": 3,\n        \"samples\": [\n          \"United States\",\n          \"South Africa\"\n        ],\n        \"semantic_type\": \"\",\n        \"description\": \"\"\n      }\n    },\n    {\n      \"column\": \"date_added\",\n      \"properties\": {\n        \"dtype\": \"object\",\n        \"num_unique_values\": 2,\n        \"samples\": [\n          \"September 24, 2021\",\n          \"September 25, 2021\"\n        ],\n        \"semantic_type\": \"\",\n        \"description\": \"\"\n      }\n    },\n    {\n      \"column\": \"release_year\",\n      \"properties\": {\n        \"dtype\": \"number\",\n        \"std\": 0,\n        \"min\": 2020,\n        \"max\": 2021,\n        \"num_unique_values\": 2,\n        \"samples\": [\n          2021,\n          2020\n        ],\n        \"semantic_type\": \"\",\n        \"description\": \"\"\n      }\n    },\n    {\n      \"column\": \"rating\",\n      \"properties\": {\n        \"dtype\": \"category\",\n        \"num_unique_values\": 2,\n        \"samples\": [\n          \"TV-MA\",\n          \"PG-13\"\n        ],\n        \"semantic_type\": \"\",\n        \"description\": \"\"\n      }\n    },\n    {\n      \"column\": \"duration\",\n      \"properties\": {\n        \"dtype\": \"string\",\n        \"num_unique_values\": 3,\n        \"samples\": [\n          \"90 min\",\n          \"2 Seasons\"\n        ],\n        \"semantic_type\": \"\",\n        \"description\": \"\"\n      }\n    },\n    {\n      \"column\": \"listed_in\",\n      \"properties\": {\n        \"dtype\": \"string\",\n        \"num_unique_values\": 5,\n        \"samples\": [\n          \"International TV Shows, TV Dramas, TV Mysteries\",\n          \"International TV Shows, Romantic TV Shows, TV Comedies\"\n        ],\n        \"semantic_type\": \"\",\n        \"description\": \"\"\n      }\n    },\n    {\n      \"column\": \"description\",\n      \"properties\": {\n        \"dtype\": \"string\",\n        \"num_unique_values\": 5,\n        \"samples\": [\n          \"After crossing paths at a party, a Cape Town teen sets out to prove whether a private-school swimming star is her sister who was abducted at birth.\",\n          \"In a city of coaching centers known to train India\\u2019s finest collegiate minds, an earnest but unexceptional student and his friends navigate campus life.\"\n        ],\n        \"semantic_type\": \"\",\n        \"description\": \"\"\n      }\n    }\n  ]\n}"
            }
          },
          "metadata": {}
        }
      ]
    },
    {
      "cell_type": "markdown",
      "source": [
        "# Data cleaning"
      ],
      "metadata": {
        "id": "GmK4Bozqesv7"
      }
    },
    {
      "cell_type": "code",
      "source": [
        "df.isnull().sum()\n"
      ],
      "metadata": {
        "colab": {
          "base_uri": "https://localhost:8080/",
          "height": 460
        },
        "id": "XvnbGpWEepuw",
        "outputId": "30d38cda-dcb9-4b29-b832-b8485e9e3f9b"
      },
      "execution_count": 6,
      "outputs": [
        {
          "output_type": "execute_result",
          "data": {
            "text/plain": [
              "show_id            0\n",
              "type               0\n",
              "title              0\n",
              "director        2634\n",
              "cast             825\n",
              "country          831\n",
              "date_added        10\n",
              "release_year       0\n",
              "rating             4\n",
              "duration           3\n",
              "listed_in          0\n",
              "description        0\n",
              "dtype: int64"
            ],
            "text/html": [
              "<div>\n",
              "<style scoped>\n",
              "    .dataframe tbody tr th:only-of-type {\n",
              "        vertical-align: middle;\n",
              "    }\n",
              "\n",
              "    .dataframe tbody tr th {\n",
              "        vertical-align: top;\n",
              "    }\n",
              "\n",
              "    .dataframe thead th {\n",
              "        text-align: right;\n",
              "    }\n",
              "</style>\n",
              "<table border=\"1\" class=\"dataframe\">\n",
              "  <thead>\n",
              "    <tr style=\"text-align: right;\">\n",
              "      <th></th>\n",
              "      <th>0</th>\n",
              "    </tr>\n",
              "  </thead>\n",
              "  <tbody>\n",
              "    <tr>\n",
              "      <th>show_id</th>\n",
              "      <td>0</td>\n",
              "    </tr>\n",
              "    <tr>\n",
              "      <th>type</th>\n",
              "      <td>0</td>\n",
              "    </tr>\n",
              "    <tr>\n",
              "      <th>title</th>\n",
              "      <td>0</td>\n",
              "    </tr>\n",
              "    <tr>\n",
              "      <th>director</th>\n",
              "      <td>2634</td>\n",
              "    </tr>\n",
              "    <tr>\n",
              "      <th>cast</th>\n",
              "      <td>825</td>\n",
              "    </tr>\n",
              "    <tr>\n",
              "      <th>country</th>\n",
              "      <td>831</td>\n",
              "    </tr>\n",
              "    <tr>\n",
              "      <th>date_added</th>\n",
              "      <td>10</td>\n",
              "    </tr>\n",
              "    <tr>\n",
              "      <th>release_year</th>\n",
              "      <td>0</td>\n",
              "    </tr>\n",
              "    <tr>\n",
              "      <th>rating</th>\n",
              "      <td>4</td>\n",
              "    </tr>\n",
              "    <tr>\n",
              "      <th>duration</th>\n",
              "      <td>3</td>\n",
              "    </tr>\n",
              "    <tr>\n",
              "      <th>listed_in</th>\n",
              "      <td>0</td>\n",
              "    </tr>\n",
              "    <tr>\n",
              "      <th>description</th>\n",
              "      <td>0</td>\n",
              "    </tr>\n",
              "  </tbody>\n",
              "</table>\n",
              "</div><br><label><b>dtype:</b> int64</label>"
            ]
          },
          "metadata": {},
          "execution_count": 6
        }
      ]
    },
    {
      "cell_type": "code",
      "source": [
        "df.shape"
      ],
      "metadata": {
        "colab": {
          "base_uri": "https://localhost:8080/"
        },
        "id": "fzaBbshheprj",
        "outputId": "2c073c28-d878-4548-cb9f-4d9c50c1c5af"
      },
      "execution_count": 7,
      "outputs": [
        {
          "output_type": "execute_result",
          "data": {
            "text/plain": [
              "(8807, 12)"
            ]
          },
          "metadata": {},
          "execution_count": 7
        }
      ]
    },
    {
      "cell_type": "code",
      "source": [
        "df['director'] = df['director'].fillna('Unknown')\n",
        "df['cast'] = df['cast'].fillna('Unknown')\n",
        "df['country'] = df['country'].fillna('Unknown')\n"
      ],
      "metadata": {
        "id": "aED-7VkDfIko"
      },
      "execution_count": 8,
      "outputs": []
    },
    {
      "cell_type": "code",
      "source": [
        "df = df.dropna(subset=['date_added'])\n"
      ],
      "metadata": {
        "id": "bIOhsmMpgMn5"
      },
      "execution_count": 9,
      "outputs": []
    },
    {
      "cell_type": "code",
      "source": [
        "df['rating'] = df['rating'].fillna('Not Rated')\n"
      ],
      "metadata": {
        "colab": {
          "base_uri": "https://localhost:8080/"
        },
        "id": "7P6fydIXgVe6",
        "outputId": "34c8cde8-27be-4ece-e670-0e496383aa7f"
      },
      "execution_count": 10,
      "outputs": [
        {
          "output_type": "stream",
          "name": "stderr",
          "text": [
            "/tmp/ipython-input-1441684939.py:1: SettingWithCopyWarning: \n",
            "A value is trying to be set on a copy of a slice from a DataFrame.\n",
            "Try using .loc[row_indexer,col_indexer] = value instead\n",
            "\n",
            "See the caveats in the documentation: https://pandas.pydata.org/pandas-docs/stable/user_guide/indexing.html#returning-a-view-versus-a-copy\n",
            "  df['rating'] = df['rating'].fillna('Not Rated')\n"
          ]
        }
      ]
    },
    {
      "cell_type": "code",
      "source": [
        "# Extract numeric part of duration for movies\n",
        "movie_durations = df.loc[df['type'] == 'Movie', 'duration'].str.replace(' min', '').astype(float)\n",
        "\n",
        "# Calculate median movie duration\n",
        "movie_median = movie_durations.median()\n",
        "\n",
        "# Fill missing movie durations with median\n",
        "df.loc[(df['type'] == 'Movie') & (df['duration'].isna()), 'duration'] = f\"{int(movie_median)} min\"\n",
        "\n",
        "# For TV shows, fill missing duration with a placeholder like 'N/A Seasons'\n",
        "df.loc[(df['type'] == 'TV Show') & (df['duration'].isna()), 'duration'] = 'N/A Seasons'"
      ],
      "metadata": {
        "id": "13Zl7qpugX1K"
      },
      "execution_count": 13,
      "outputs": []
    },
    {
      "cell_type": "code",
      "source": [
        "df.isnull().sum()"
      ],
      "metadata": {
        "colab": {
          "base_uri": "https://localhost:8080/",
          "height": 460
        },
        "id": "KhTtthaFgjJJ",
        "outputId": "a12a5a43-267a-49a9-833c-cd55632e78cb"
      },
      "execution_count": 14,
      "outputs": [
        {
          "output_type": "execute_result",
          "data": {
            "text/plain": [
              "show_id         0\n",
              "type            0\n",
              "title           0\n",
              "director        0\n",
              "cast            0\n",
              "country         0\n",
              "date_added      0\n",
              "release_year    0\n",
              "rating          0\n",
              "duration        0\n",
              "listed_in       0\n",
              "description     0\n",
              "dtype: int64"
            ],
            "text/html": [
              "<div>\n",
              "<style scoped>\n",
              "    .dataframe tbody tr th:only-of-type {\n",
              "        vertical-align: middle;\n",
              "    }\n",
              "\n",
              "    .dataframe tbody tr th {\n",
              "        vertical-align: top;\n",
              "    }\n",
              "\n",
              "    .dataframe thead th {\n",
              "        text-align: right;\n",
              "    }\n",
              "</style>\n",
              "<table border=\"1\" class=\"dataframe\">\n",
              "  <thead>\n",
              "    <tr style=\"text-align: right;\">\n",
              "      <th></th>\n",
              "      <th>0</th>\n",
              "    </tr>\n",
              "  </thead>\n",
              "  <tbody>\n",
              "    <tr>\n",
              "      <th>show_id</th>\n",
              "      <td>0</td>\n",
              "    </tr>\n",
              "    <tr>\n",
              "      <th>type</th>\n",
              "      <td>0</td>\n",
              "    </tr>\n",
              "    <tr>\n",
              "      <th>title</th>\n",
              "      <td>0</td>\n",
              "    </tr>\n",
              "    <tr>\n",
              "      <th>director</th>\n",
              "      <td>0</td>\n",
              "    </tr>\n",
              "    <tr>\n",
              "      <th>cast</th>\n",
              "      <td>0</td>\n",
              "    </tr>\n",
              "    <tr>\n",
              "      <th>country</th>\n",
              "      <td>0</td>\n",
              "    </tr>\n",
              "    <tr>\n",
              "      <th>date_added</th>\n",
              "      <td>0</td>\n",
              "    </tr>\n",
              "    <tr>\n",
              "      <th>release_year</th>\n",
              "      <td>0</td>\n",
              "    </tr>\n",
              "    <tr>\n",
              "      <th>rating</th>\n",
              "      <td>0</td>\n",
              "    </tr>\n",
              "    <tr>\n",
              "      <th>duration</th>\n",
              "      <td>0</td>\n",
              "    </tr>\n",
              "    <tr>\n",
              "      <th>listed_in</th>\n",
              "      <td>0</td>\n",
              "    </tr>\n",
              "    <tr>\n",
              "      <th>description</th>\n",
              "      <td>0</td>\n",
              "    </tr>\n",
              "  </tbody>\n",
              "</table>\n",
              "</div><br><label><b>dtype:</b> int64</label>"
            ]
          },
          "metadata": {},
          "execution_count": 14
        }
      ]
    },
    {
      "cell_type": "markdown",
      "source": [
        "# drop unnecessary columns\n",
        "\n",
        "---\n",
        "\n"
      ],
      "metadata": {
        "id": "Vn-D9iiThl5g"
      }
    },
    {
      "cell_type": "code",
      "source": [
        "df = df.drop(columns=['show_id', 'description'])   # drop unnecessary\n"
      ],
      "metadata": {
        "id": "QfVkVdzlhAir"
      },
      "execution_count": 16,
      "outputs": []
    },
    {
      "cell_type": "code",
      "source": [
        "df.dtypes"
      ],
      "metadata": {
        "colab": {
          "base_uri": "https://localhost:8080/",
          "height": 398
        },
        "id": "B5RLgOQMhwqv",
        "outputId": "7bcc512d-001b-411e-944e-cd836f659094"
      },
      "execution_count": 17,
      "outputs": [
        {
          "output_type": "execute_result",
          "data": {
            "text/plain": [
              "type            object\n",
              "title           object\n",
              "director        object\n",
              "cast            object\n",
              "country         object\n",
              "date_added      object\n",
              "release_year     int64\n",
              "rating          object\n",
              "duration        object\n",
              "listed_in       object\n",
              "dtype: object"
            ],
            "text/html": [
              "<div>\n",
              "<style scoped>\n",
              "    .dataframe tbody tr th:only-of-type {\n",
              "        vertical-align: middle;\n",
              "    }\n",
              "\n",
              "    .dataframe tbody tr th {\n",
              "        vertical-align: top;\n",
              "    }\n",
              "\n",
              "    .dataframe thead th {\n",
              "        text-align: right;\n",
              "    }\n",
              "</style>\n",
              "<table border=\"1\" class=\"dataframe\">\n",
              "  <thead>\n",
              "    <tr style=\"text-align: right;\">\n",
              "      <th></th>\n",
              "      <th>0</th>\n",
              "    </tr>\n",
              "  </thead>\n",
              "  <tbody>\n",
              "    <tr>\n",
              "      <th>type</th>\n",
              "      <td>object</td>\n",
              "    </tr>\n",
              "    <tr>\n",
              "      <th>title</th>\n",
              "      <td>object</td>\n",
              "    </tr>\n",
              "    <tr>\n",
              "      <th>director</th>\n",
              "      <td>object</td>\n",
              "    </tr>\n",
              "    <tr>\n",
              "      <th>cast</th>\n",
              "      <td>object</td>\n",
              "    </tr>\n",
              "    <tr>\n",
              "      <th>country</th>\n",
              "      <td>object</td>\n",
              "    </tr>\n",
              "    <tr>\n",
              "      <th>date_added</th>\n",
              "      <td>object</td>\n",
              "    </tr>\n",
              "    <tr>\n",
              "      <th>release_year</th>\n",
              "      <td>int64</td>\n",
              "    </tr>\n",
              "    <tr>\n",
              "      <th>rating</th>\n",
              "      <td>object</td>\n",
              "    </tr>\n",
              "    <tr>\n",
              "      <th>duration</th>\n",
              "      <td>object</td>\n",
              "    </tr>\n",
              "    <tr>\n",
              "      <th>listed_in</th>\n",
              "      <td>object</td>\n",
              "    </tr>\n",
              "  </tbody>\n",
              "</table>\n",
              "</div><br><label><b>dtype:</b> object</label>"
            ]
          },
          "metadata": {},
          "execution_count": 17
        }
      ]
    },
    {
      "cell_type": "markdown",
      "source": [
        "# converting data types"
      ],
      "metadata": {
        "id": "pSrXKGcSiSf8"
      }
    },
    {
      "cell_type": "code",
      "source": [
        "df['date_added'] = pd.to_datetime(df['date_added'], errors='coerce')  #Convert date_added → datetime\n"
      ],
      "metadata": {
        "id": "0s6QC6Z7hz_7"
      },
      "execution_count": 18,
      "outputs": []
    },
    {
      "cell_type": "code",
      "source": [
        "df['type'] = df['type'].astype('category')\n",
        "df['rating'] = df['rating'].astype('category')\n"
      ],
      "metadata": {
        "id": "d-m-HOWbicki"
      },
      "execution_count": 19,
      "outputs": []
    },
    {
      "cell_type": "code",
      "source": [
        "import re\n",
        "\n",
        "def parse_duration(x):\n",
        "    if pd.isna(x):\n",
        "        return (None, None)\n",
        "    if \"Season\" in str(x):\n",
        "        m = re.search(r\"(\\d+)\", x)\n",
        "        return (None, int(m.group(1)) if m else 1)\n",
        "    m = re.search(r\"(\\d+)\", x)\n",
        "    return (int(m.group(1)) if m else None, None)\n",
        "\n",
        "df[['duration_min','seasons']] = df['duration'].apply(lambda x: pd.Series(parse_duration(x)))\n"
      ],
      "metadata": {
        "id": "SXf67Z3bjGAF"
      },
      "execution_count": 20,
      "outputs": []
    },
    {
      "cell_type": "code",
      "source": [
        "# Extract year, month, day from date_added\n",
        "df['year_added'] = df['date_added'].dt.year\n",
        "df['month_added'] = df['date_added'].dt.month\n",
        "df['day_added'] = df['date_added'].dt.day\n"
      ],
      "metadata": {
        "id": "JBGEqtUxkQka"
      },
      "execution_count": 24,
      "outputs": []
    },
    {
      "cell_type": "code",
      "source": [
        "df.dtypes"
      ],
      "metadata": {
        "colab": {
          "base_uri": "https://localhost:8080/",
          "height": 554
        },
        "id": "qc3vwT_YjK7k",
        "outputId": "0dadb75d-a539-4358-e691-9febb346c463"
      },
      "execution_count": 25,
      "outputs": [
        {
          "output_type": "execute_result",
          "data": {
            "text/plain": [
              "type                  category\n",
              "title                   object\n",
              "director                object\n",
              "cast                    object\n",
              "country                 object\n",
              "date_added      datetime64[ns]\n",
              "release_year             int64\n",
              "rating                category\n",
              "duration                object\n",
              "listed_in               object\n",
              "duration_min           float64\n",
              "seasons                float64\n",
              "year_added             float64\n",
              "month_added            float64\n",
              "day_added              float64\n",
              "dtype: object"
            ],
            "text/html": [
              "<div>\n",
              "<style scoped>\n",
              "    .dataframe tbody tr th:only-of-type {\n",
              "        vertical-align: middle;\n",
              "    }\n",
              "\n",
              "    .dataframe tbody tr th {\n",
              "        vertical-align: top;\n",
              "    }\n",
              "\n",
              "    .dataframe thead th {\n",
              "        text-align: right;\n",
              "    }\n",
              "</style>\n",
              "<table border=\"1\" class=\"dataframe\">\n",
              "  <thead>\n",
              "    <tr style=\"text-align: right;\">\n",
              "      <th></th>\n",
              "      <th>0</th>\n",
              "    </tr>\n",
              "  </thead>\n",
              "  <tbody>\n",
              "    <tr>\n",
              "      <th>type</th>\n",
              "      <td>category</td>\n",
              "    </tr>\n",
              "    <tr>\n",
              "      <th>title</th>\n",
              "      <td>object</td>\n",
              "    </tr>\n",
              "    <tr>\n",
              "      <th>director</th>\n",
              "      <td>object</td>\n",
              "    </tr>\n",
              "    <tr>\n",
              "      <th>cast</th>\n",
              "      <td>object</td>\n",
              "    </tr>\n",
              "    <tr>\n",
              "      <th>country</th>\n",
              "      <td>object</td>\n",
              "    </tr>\n",
              "    <tr>\n",
              "      <th>date_added</th>\n",
              "      <td>datetime64[ns]</td>\n",
              "    </tr>\n",
              "    <tr>\n",
              "      <th>release_year</th>\n",
              "      <td>int64</td>\n",
              "    </tr>\n",
              "    <tr>\n",
              "      <th>rating</th>\n",
              "      <td>category</td>\n",
              "    </tr>\n",
              "    <tr>\n",
              "      <th>duration</th>\n",
              "      <td>object</td>\n",
              "    </tr>\n",
              "    <tr>\n",
              "      <th>listed_in</th>\n",
              "      <td>object</td>\n",
              "    </tr>\n",
              "    <tr>\n",
              "      <th>duration_min</th>\n",
              "      <td>float64</td>\n",
              "    </tr>\n",
              "    <tr>\n",
              "      <th>seasons</th>\n",
              "      <td>float64</td>\n",
              "    </tr>\n",
              "    <tr>\n",
              "      <th>year_added</th>\n",
              "      <td>float64</td>\n",
              "    </tr>\n",
              "    <tr>\n",
              "      <th>month_added</th>\n",
              "      <td>float64</td>\n",
              "    </tr>\n",
              "    <tr>\n",
              "      <th>day_added</th>\n",
              "      <td>float64</td>\n",
              "    </tr>\n",
              "  </tbody>\n",
              "</table>\n",
              "</div><br><label><b>dtype:</b> object</label>"
            ]
          },
          "metadata": {},
          "execution_count": 25
        }
      ]
    },
    {
      "cell_type": "code",
      "source": [
        "df.head()"
      ],
      "metadata": {
        "colab": {
          "base_uri": "https://localhost:8080/",
          "height": 608
        },
        "id": "mRNIAuWFjNmE",
        "outputId": "8c232c5d-2cc3-4d16-dd8b-d87d9df5a7b0"
      },
      "execution_count": 26,
      "outputs": [
        {
          "output_type": "execute_result",
          "data": {
            "text/plain": [
              "      type                  title         director  \\\n",
              "0    Movie   Dick Johnson Is Dead  Kirsten Johnson   \n",
              "1  TV Show          Blood & Water          Unknown   \n",
              "2  TV Show              Ganglands  Julien Leclercq   \n",
              "3  TV Show  Jailbirds New Orleans          Unknown   \n",
              "4  TV Show           Kota Factory          Unknown   \n",
              "\n",
              "                                                cast        country  \\\n",
              "0                                            Unknown  United States   \n",
              "1  Ama Qamata, Khosi Ngema, Gail Mabalane, Thaban...   South Africa   \n",
              "2  Sami Bouajila, Tracy Gotoas, Samuel Jouy, Nabi...        Unknown   \n",
              "3                                            Unknown        Unknown   \n",
              "4  Mayur More, Jitendra Kumar, Ranjan Raj, Alam K...          India   \n",
              "\n",
              "  date_added  release_year rating   duration  \\\n",
              "0 2021-09-25          2020  PG-13     90 min   \n",
              "1 2021-09-24          2021  TV-MA  2 Seasons   \n",
              "2 2021-09-24          2021  TV-MA   1 Season   \n",
              "3 2021-09-24          2021  TV-MA   1 Season   \n",
              "4 2021-09-24          2021  TV-MA  2 Seasons   \n",
              "\n",
              "                                           listed_in  duration_min  seasons  \\\n",
              "0                                      Documentaries          90.0      NaN   \n",
              "1    International TV Shows, TV Dramas, TV Mysteries           NaN      2.0   \n",
              "2  Crime TV Shows, International TV Shows, TV Act...           NaN      1.0   \n",
              "3                             Docuseries, Reality TV           NaN      1.0   \n",
              "4  International TV Shows, Romantic TV Shows, TV ...           NaN      2.0   \n",
              "\n",
              "   year_added  month_added  day_added  \n",
              "0      2021.0          9.0       25.0  \n",
              "1      2021.0          9.0       24.0  \n",
              "2      2021.0          9.0       24.0  \n",
              "3      2021.0          9.0       24.0  \n",
              "4      2021.0          9.0       24.0  "
            ],
            "text/html": [
              "\n",
              "  <div id=\"df-bdd96853-0701-4a9b-a58b-9d6953cd83ff\" class=\"colab-df-container\">\n",
              "    <div>\n",
              "<style scoped>\n",
              "    .dataframe tbody tr th:only-of-type {\n",
              "        vertical-align: middle;\n",
              "    }\n",
              "\n",
              "    .dataframe tbody tr th {\n",
              "        vertical-align: top;\n",
              "    }\n",
              "\n",
              "    .dataframe thead th {\n",
              "        text-align: right;\n",
              "    }\n",
              "</style>\n",
              "<table border=\"1\" class=\"dataframe\">\n",
              "  <thead>\n",
              "    <tr style=\"text-align: right;\">\n",
              "      <th></th>\n",
              "      <th>type</th>\n",
              "      <th>title</th>\n",
              "      <th>director</th>\n",
              "      <th>cast</th>\n",
              "      <th>country</th>\n",
              "      <th>date_added</th>\n",
              "      <th>release_year</th>\n",
              "      <th>rating</th>\n",
              "      <th>duration</th>\n",
              "      <th>listed_in</th>\n",
              "      <th>duration_min</th>\n",
              "      <th>seasons</th>\n",
              "      <th>year_added</th>\n",
              "      <th>month_added</th>\n",
              "      <th>day_added</th>\n",
              "    </tr>\n",
              "  </thead>\n",
              "  <tbody>\n",
              "    <tr>\n",
              "      <th>0</th>\n",
              "      <td>Movie</td>\n",
              "      <td>Dick Johnson Is Dead</td>\n",
              "      <td>Kirsten Johnson</td>\n",
              "      <td>Unknown</td>\n",
              "      <td>United States</td>\n",
              "      <td>2021-09-25</td>\n",
              "      <td>2020</td>\n",
              "      <td>PG-13</td>\n",
              "      <td>90 min</td>\n",
              "      <td>Documentaries</td>\n",
              "      <td>90.0</td>\n",
              "      <td>NaN</td>\n",
              "      <td>2021.0</td>\n",
              "      <td>9.0</td>\n",
              "      <td>25.0</td>\n",
              "    </tr>\n",
              "    <tr>\n",
              "      <th>1</th>\n",
              "      <td>TV Show</td>\n",
              "      <td>Blood &amp; Water</td>\n",
              "      <td>Unknown</td>\n",
              "      <td>Ama Qamata, Khosi Ngema, Gail Mabalane, Thaban...</td>\n",
              "      <td>South Africa</td>\n",
              "      <td>2021-09-24</td>\n",
              "      <td>2021</td>\n",
              "      <td>TV-MA</td>\n",
              "      <td>2 Seasons</td>\n",
              "      <td>International TV Shows, TV Dramas, TV Mysteries</td>\n",
              "      <td>NaN</td>\n",
              "      <td>2.0</td>\n",
              "      <td>2021.0</td>\n",
              "      <td>9.0</td>\n",
              "      <td>24.0</td>\n",
              "    </tr>\n",
              "    <tr>\n",
              "      <th>2</th>\n",
              "      <td>TV Show</td>\n",
              "      <td>Ganglands</td>\n",
              "      <td>Julien Leclercq</td>\n",
              "      <td>Sami Bouajila, Tracy Gotoas, Samuel Jouy, Nabi...</td>\n",
              "      <td>Unknown</td>\n",
              "      <td>2021-09-24</td>\n",
              "      <td>2021</td>\n",
              "      <td>TV-MA</td>\n",
              "      <td>1 Season</td>\n",
              "      <td>Crime TV Shows, International TV Shows, TV Act...</td>\n",
              "      <td>NaN</td>\n",
              "      <td>1.0</td>\n",
              "      <td>2021.0</td>\n",
              "      <td>9.0</td>\n",
              "      <td>24.0</td>\n",
              "    </tr>\n",
              "    <tr>\n",
              "      <th>3</th>\n",
              "      <td>TV Show</td>\n",
              "      <td>Jailbirds New Orleans</td>\n",
              "      <td>Unknown</td>\n",
              "      <td>Unknown</td>\n",
              "      <td>Unknown</td>\n",
              "      <td>2021-09-24</td>\n",
              "      <td>2021</td>\n",
              "      <td>TV-MA</td>\n",
              "      <td>1 Season</td>\n",
              "      <td>Docuseries, Reality TV</td>\n",
              "      <td>NaN</td>\n",
              "      <td>1.0</td>\n",
              "      <td>2021.0</td>\n",
              "      <td>9.0</td>\n",
              "      <td>24.0</td>\n",
              "    </tr>\n",
              "    <tr>\n",
              "      <th>4</th>\n",
              "      <td>TV Show</td>\n",
              "      <td>Kota Factory</td>\n",
              "      <td>Unknown</td>\n",
              "      <td>Mayur More, Jitendra Kumar, Ranjan Raj, Alam K...</td>\n",
              "      <td>India</td>\n",
              "      <td>2021-09-24</td>\n",
              "      <td>2021</td>\n",
              "      <td>TV-MA</td>\n",
              "      <td>2 Seasons</td>\n",
              "      <td>International TV Shows, Romantic TV Shows, TV ...</td>\n",
              "      <td>NaN</td>\n",
              "      <td>2.0</td>\n",
              "      <td>2021.0</td>\n",
              "      <td>9.0</td>\n",
              "      <td>24.0</td>\n",
              "    </tr>\n",
              "  </tbody>\n",
              "</table>\n",
              "</div>\n",
              "    <div class=\"colab-df-buttons\">\n",
              "\n",
              "  <div class=\"colab-df-container\">\n",
              "    <button class=\"colab-df-convert\" onclick=\"convertToInteractive('df-bdd96853-0701-4a9b-a58b-9d6953cd83ff')\"\n",
              "            title=\"Convert this dataframe to an interactive table.\"\n",
              "            style=\"display:none;\">\n",
              "\n",
              "  <svg xmlns=\"http://www.w3.org/2000/svg\" height=\"24px\" viewBox=\"0 -960 960 960\">\n",
              "    <path d=\"M120-120v-720h720v720H120Zm60-500h600v-160H180v160Zm220 220h160v-160H400v160Zm0 220h160v-160H400v160ZM180-400h160v-160H180v160Zm440 0h160v-160H620v160ZM180-180h160v-160H180v160Zm440 0h160v-160H620v160Z\"/>\n",
              "  </svg>\n",
              "    </button>\n",
              "\n",
              "  <style>\n",
              "    .colab-df-container {\n",
              "      display:flex;\n",
              "      gap: 12px;\n",
              "    }\n",
              "\n",
              "    .colab-df-convert {\n",
              "      background-color: #E8F0FE;\n",
              "      border: none;\n",
              "      border-radius: 50%;\n",
              "      cursor: pointer;\n",
              "      display: none;\n",
              "      fill: #1967D2;\n",
              "      height: 32px;\n",
              "      padding: 0 0 0 0;\n",
              "      width: 32px;\n",
              "    }\n",
              "\n",
              "    .colab-df-convert:hover {\n",
              "      background-color: #E2EBFA;\n",
              "      box-shadow: 0px 1px 2px rgba(60, 64, 67, 0.3), 0px 1px 3px 1px rgba(60, 64, 67, 0.15);\n",
              "      fill: #174EA6;\n",
              "    }\n",
              "\n",
              "    .colab-df-buttons div {\n",
              "      margin-bottom: 4px;\n",
              "    }\n",
              "\n",
              "    [theme=dark] .colab-df-convert {\n",
              "      background-color: #3B4455;\n",
              "      fill: #D2E3FC;\n",
              "    }\n",
              "\n",
              "    [theme=dark] .colab-df-convert:hover {\n",
              "      background-color: #434B5C;\n",
              "      box-shadow: 0px 1px 3px 1px rgba(0, 0, 0, 0.15);\n",
              "      filter: drop-shadow(0px 1px 2px rgba(0, 0, 0, 0.3));\n",
              "      fill: #FFFFFF;\n",
              "    }\n",
              "  </style>\n",
              "\n",
              "    <script>\n",
              "      const buttonEl =\n",
              "        document.querySelector('#df-bdd96853-0701-4a9b-a58b-9d6953cd83ff button.colab-df-convert');\n",
              "      buttonEl.style.display =\n",
              "        google.colab.kernel.accessAllowed ? 'block' : 'none';\n",
              "\n",
              "      async function convertToInteractive(key) {\n",
              "        const element = document.querySelector('#df-bdd96853-0701-4a9b-a58b-9d6953cd83ff');\n",
              "        const dataTable =\n",
              "          await google.colab.kernel.invokeFunction('convertToInteractive',\n",
              "                                                    [key], {});\n",
              "        if (!dataTable) return;\n",
              "\n",
              "        const docLinkHtml = 'Like what you see? Visit the ' +\n",
              "          '<a target=\"_blank\" href=https://colab.research.google.com/notebooks/data_table.ipynb>data table notebook</a>'\n",
              "          + ' to learn more about interactive tables.';\n",
              "        element.innerHTML = '';\n",
              "        dataTable['output_type'] = 'display_data';\n",
              "        await google.colab.output.renderOutput(dataTable, element);\n",
              "        const docLink = document.createElement('div');\n",
              "        docLink.innerHTML = docLinkHtml;\n",
              "        element.appendChild(docLink);\n",
              "      }\n",
              "    </script>\n",
              "  </div>\n",
              "\n",
              "\n",
              "    <div id=\"df-9f4bfc22-b6ac-43b1-88a3-e66de01d7e1d\">\n",
              "      <button class=\"colab-df-quickchart\" onclick=\"quickchart('df-9f4bfc22-b6ac-43b1-88a3-e66de01d7e1d')\"\n",
              "                title=\"Suggest charts\"\n",
              "                style=\"display:none;\">\n",
              "\n",
              "<svg xmlns=\"http://www.w3.org/2000/svg\" height=\"24px\"viewBox=\"0 0 24 24\"\n",
              "     width=\"24px\">\n",
              "    <g>\n",
              "        <path d=\"M19 3H5c-1.1 0-2 .9-2 2v14c0 1.1.9 2 2 2h14c1.1 0 2-.9 2-2V5c0-1.1-.9-2-2-2zM9 17H7v-7h2v7zm4 0h-2V7h2v10zm4 0h-2v-4h2v4z\"/>\n",
              "    </g>\n",
              "</svg>\n",
              "      </button>\n",
              "\n",
              "<style>\n",
              "  .colab-df-quickchart {\n",
              "      --bg-color: #E8F0FE;\n",
              "      --fill-color: #1967D2;\n",
              "      --hover-bg-color: #E2EBFA;\n",
              "      --hover-fill-color: #174EA6;\n",
              "      --disabled-fill-color: #AAA;\n",
              "      --disabled-bg-color: #DDD;\n",
              "  }\n",
              "\n",
              "  [theme=dark] .colab-df-quickchart {\n",
              "      --bg-color: #3B4455;\n",
              "      --fill-color: #D2E3FC;\n",
              "      --hover-bg-color: #434B5C;\n",
              "      --hover-fill-color: #FFFFFF;\n",
              "      --disabled-bg-color: #3B4455;\n",
              "      --disabled-fill-color: #666;\n",
              "  }\n",
              "\n",
              "  .colab-df-quickchart {\n",
              "    background-color: var(--bg-color);\n",
              "    border: none;\n",
              "    border-radius: 50%;\n",
              "    cursor: pointer;\n",
              "    display: none;\n",
              "    fill: var(--fill-color);\n",
              "    height: 32px;\n",
              "    padding: 0;\n",
              "    width: 32px;\n",
              "  }\n",
              "\n",
              "  .colab-df-quickchart:hover {\n",
              "    background-color: var(--hover-bg-color);\n",
              "    box-shadow: 0 1px 2px rgba(60, 64, 67, 0.3), 0 1px 3px 1px rgba(60, 64, 67, 0.15);\n",
              "    fill: var(--button-hover-fill-color);\n",
              "  }\n",
              "\n",
              "  .colab-df-quickchart-complete:disabled,\n",
              "  .colab-df-quickchart-complete:disabled:hover {\n",
              "    background-color: var(--disabled-bg-color);\n",
              "    fill: var(--disabled-fill-color);\n",
              "    box-shadow: none;\n",
              "  }\n",
              "\n",
              "  .colab-df-spinner {\n",
              "    border: 2px solid var(--fill-color);\n",
              "    border-color: transparent;\n",
              "    border-bottom-color: var(--fill-color);\n",
              "    animation:\n",
              "      spin 1s steps(1) infinite;\n",
              "  }\n",
              "\n",
              "  @keyframes spin {\n",
              "    0% {\n",
              "      border-color: transparent;\n",
              "      border-bottom-color: var(--fill-color);\n",
              "      border-left-color: var(--fill-color);\n",
              "    }\n",
              "    20% {\n",
              "      border-color: transparent;\n",
              "      border-left-color: var(--fill-color);\n",
              "      border-top-color: var(--fill-color);\n",
              "    }\n",
              "    30% {\n",
              "      border-color: transparent;\n",
              "      border-left-color: var(--fill-color);\n",
              "      border-top-color: var(--fill-color);\n",
              "      border-right-color: var(--fill-color);\n",
              "    }\n",
              "    40% {\n",
              "      border-color: transparent;\n",
              "      border-right-color: var(--fill-color);\n",
              "      border-top-color: var(--fill-color);\n",
              "    }\n",
              "    60% {\n",
              "      border-color: transparent;\n",
              "      border-right-color: var(--fill-color);\n",
              "    }\n",
              "    80% {\n",
              "      border-color: transparent;\n",
              "      border-right-color: var(--fill-color);\n",
              "      border-bottom-color: var(--fill-color);\n",
              "    }\n",
              "    90% {\n",
              "      border-color: transparent;\n",
              "      border-bottom-color: var(--fill-color);\n",
              "    }\n",
              "  }\n",
              "</style>\n",
              "\n",
              "      <script>\n",
              "        async function quickchart(key) {\n",
              "          const quickchartButtonEl =\n",
              "            document.querySelector('#' + key + ' button');\n",
              "          quickchartButtonEl.disabled = true;  // To prevent multiple clicks.\n",
              "          quickchartButtonEl.classList.add('colab-df-spinner');\n",
              "          try {\n",
              "            const charts = await google.colab.kernel.invokeFunction(\n",
              "                'suggestCharts', [key], {});\n",
              "          } catch (error) {\n",
              "            console.error('Error during call to suggestCharts:', error);\n",
              "          }\n",
              "          quickchartButtonEl.classList.remove('colab-df-spinner');\n",
              "          quickchartButtonEl.classList.add('colab-df-quickchart-complete');\n",
              "        }\n",
              "        (() => {\n",
              "          let quickchartButtonEl =\n",
              "            document.querySelector('#df-9f4bfc22-b6ac-43b1-88a3-e66de01d7e1d button');\n",
              "          quickchartButtonEl.style.display =\n",
              "            google.colab.kernel.accessAllowed ? 'block' : 'none';\n",
              "        })();\n",
              "      </script>\n",
              "    </div>\n",
              "\n",
              "    </div>\n",
              "  </div>\n"
            ],
            "application/vnd.google.colaboratory.intrinsic+json": {
              "type": "dataframe",
              "variable_name": "df",
              "summary": "{\n  \"name\": \"df\",\n  \"rows\": 8797,\n  \"fields\": [\n    {\n      \"column\": \"type\",\n      \"properties\": {\n        \"dtype\": \"category\",\n        \"num_unique_values\": 2,\n        \"samples\": [\n          \"TV Show\",\n          \"Movie\"\n        ],\n        \"semantic_type\": \"\",\n        \"description\": \"\"\n      }\n    },\n    {\n      \"column\": \"title\",\n      \"properties\": {\n        \"dtype\": \"string\",\n        \"num_unique_values\": 8794,\n        \"samples\": [\n          \"Chelsea\",\n          \"Ask the StoryBots\"\n        ],\n        \"semantic_type\": \"\",\n        \"description\": \"\"\n      }\n    },\n    {\n      \"column\": \"director\",\n      \"properties\": {\n        \"dtype\": \"string\",\n        \"num_unique_values\": 4529,\n        \"samples\": [\n          \"Babak Anvari\",\n          \"Maria Ripoll\"\n        ],\n        \"semantic_type\": \"\",\n        \"description\": \"\"\n      }\n    },\n    {\n      \"column\": \"cast\",\n      \"properties\": {\n        \"dtype\": \"string\",\n        \"num_unique_values\": 7683,\n        \"samples\": [\n          \"Seth Carr, Tichina Arnold, Adam Pally, Ken Marino, Mike 'The Miz' Mizanin, Momona Tamada, Keith Lee, Babatunde Aiyegbusi, Kofi Kingston\",\n          \"Julia Roberts, Lily Collins, Armie Hammer, Nathan Lane, Mare Winningham, Michael Lerner, Sean Bean, Robert Emms, Danny Woodburn, Martin Klebba, Sebastian Saraceno, Jordan Prentice, Mark Povinelli, Joe Gnoffo, Ronald Lee Clark\"\n        ],\n        \"semantic_type\": \"\",\n        \"description\": \"\"\n      }\n    },\n    {\n      \"column\": \"country\",\n      \"properties\": {\n        \"dtype\": \"category\",\n        \"num_unique_values\": 749,\n        \"samples\": [\n          \"United States, United Kingdom, Denmark, Sweden\",\n          \"Spain, France\"\n        ],\n        \"semantic_type\": \"\",\n        \"description\": \"\"\n      }\n    },\n    {\n      \"column\": \"date_added\",\n      \"properties\": {\n        \"dtype\": \"date\",\n        \"min\": \"2008-01-01 00:00:00\",\n        \"max\": \"2021-09-25 00:00:00\",\n        \"num_unique_values\": 1699,\n        \"samples\": [\n          \"2019-10-29 00:00:00\",\n          \"2021-05-19 00:00:00\"\n        ],\n        \"semantic_type\": \"\",\n        \"description\": \"\"\n      }\n    },\n    {\n      \"column\": \"release_year\",\n      \"properties\": {\n        \"dtype\": \"number\",\n        \"std\": 8,\n        \"min\": 1925,\n        \"max\": 2021,\n        \"num_unique_values\": 74,\n        \"samples\": [\n          1996,\n          1969\n        ],\n        \"semantic_type\": \"\",\n        \"description\": \"\"\n      }\n    },\n    {\n      \"column\": \"rating\",\n      \"properties\": {\n        \"dtype\": \"category\",\n        \"num_unique_values\": 18,\n        \"samples\": [\n          \"PG-13\",\n          \"TV-MA\"\n        ],\n        \"semantic_type\": \"\",\n        \"description\": \"\"\n      }\n    },\n    {\n      \"column\": \"duration\",\n      \"properties\": {\n        \"dtype\": \"category\",\n        \"num_unique_values\": 220,\n        \"samples\": [\n          \"37 min\",\n          \"177 min\"\n        ],\n        \"semantic_type\": \"\",\n        \"description\": \"\"\n      }\n    },\n    {\n      \"column\": \"listed_in\",\n      \"properties\": {\n        \"dtype\": \"category\",\n        \"num_unique_values\": 513,\n        \"samples\": [\n          \"Crime TV Shows, International TV Shows, TV Mysteries\",\n          \"Children & Family Movies, Classic Movies, Dramas\"\n        ],\n        \"semantic_type\": \"\",\n        \"description\": \"\"\n      }\n    },\n    {\n      \"column\": \"duration_min\",\n      \"properties\": {\n        \"dtype\": \"number\",\n        \"std\": 28.28369145317954,\n        \"min\": 3.0,\n        \"max\": 312.0,\n        \"num_unique_values\": 205,\n        \"samples\": [\n          110.0,\n          166.0\n        ],\n        \"semantic_type\": \"\",\n        \"description\": \"\"\n      }\n    },\n    {\n      \"column\": \"seasons\",\n      \"properties\": {\n        \"dtype\": \"number\",\n        \"std\": 1.5501764597371306,\n        \"min\": 1.0,\n        \"max\": 17.0,\n        \"num_unique_values\": 15,\n        \"samples\": [\n          8.0,\n          13.0\n        ],\n        \"semantic_type\": \"\",\n        \"description\": \"\"\n      }\n    },\n    {\n      \"column\": \"year_added\",\n      \"properties\": {\n        \"dtype\": \"number\",\n        \"std\": 1.5679605925584683,\n        \"min\": 2008.0,\n        \"max\": 2021.0,\n        \"num_unique_values\": 14,\n        \"samples\": [\n          2012.0,\n          2009.0\n        ],\n        \"semantic_type\": \"\",\n        \"description\": \"\"\n      }\n    },\n    {\n      \"column\": \"month_added\",\n      \"properties\": {\n        \"dtype\": \"number\",\n        \"std\": 3.4314344206530767,\n        \"min\": 1.0,\n        \"max\": 12.0,\n        \"num_unique_values\": 12,\n        \"samples\": [\n          11.0,\n          12.0\n        ],\n        \"semantic_type\": \"\",\n        \"description\": \"\"\n      }\n    },\n    {\n      \"column\": \"day_added\",\n      \"properties\": {\n        \"dtype\": \"number\",\n        \"std\": 9.881533795215908,\n        \"min\": 1.0,\n        \"max\": 31.0,\n        \"num_unique_values\": 31,\n        \"samples\": [\n          18.0,\n          7.0\n        ],\n        \"semantic_type\": \"\",\n        \"description\": \"\"\n      }\n    }\n  ]\n}"
            }
          },
          "metadata": {},
          "execution_count": 26
        }
      ]
    },
    {
      "cell_type": "code",
      "source": [],
      "metadata": {
        "id": "mZWESjCojUtB"
      },
      "execution_count": null,
      "outputs": []
    },
    {
      "cell_type": "markdown",
      "source": [
        "# **Exploratory Data Analysis (EDA)**"
      ],
      "metadata": {
        "id": "y82rKdsqlIPG"
      }
    },
    {
      "cell_type": "markdown",
      "source": [
        "# **Q1- Show the all Movies & TV Shows released by month**"
      ],
      "metadata": {
        "id": "bMdmUgX3leFw"
      }
    },
    {
      "cell_type": "code",
      "source": [
        "import matplotlib.pyplot as plt\n",
        "import seaborn as sns\n",
        "\n",
        "# Count of Movies/TV Shows per month\n",
        "monthly_counts = df.groupby(['month_added', 'type']).size().reset_index(name='count')\n",
        "\n",
        "plt.figure(figsize=(10,6))\n",
        "sns.barplot(data=monthly_counts, x='month_added', y='count', hue='type')\n",
        "plt.title(\"Movies & TV Shows Released by Month\")\n",
        "plt.xlabel(\"Month\")\n",
        "plt.ylabel(\"Count\")\n",
        "plt.xticks(range(0,12),\n",
        "           ['Jan','Feb','Mar','Apr','May','Jun','Jul','Aug','Sep','Oct','Nov','Dec'])\n",
        "plt.show()\n"
      ],
      "metadata": {
        "colab": {
          "base_uri": "https://localhost:8080/",
          "height": 619
        },
        "id": "SRHqYf-IlLOJ",
        "outputId": "57ece8f3-3265-4135-a20e-04b39b891cc9"
      },
      "execution_count": 27,
      "outputs": [
        {
          "output_type": "stream",
          "name": "stderr",
          "text": [
            "/tmp/ipython-input-2342091204.py:5: FutureWarning: The default of observed=False is deprecated and will be changed to True in a future version of pandas. Pass observed=False to retain current behavior or observed=True to adopt the future default and silence this warning.\n",
            "  monthly_counts = df.groupby(['month_added', 'type']).size().reset_index(name='count')\n"
          ]
        },
        {
          "output_type": "display_data",
          "data": {
            "text/plain": [
              "<Figure size 1000x600 with 1 Axes>"
            ],
            "image/png": "[encoded data removed]"
          },
          "metadata": {}
        }
      ]
    },
    {
      "cell_type": "code",
      "source": [],
      "metadata": {
        "id": "gq_LnxoylThE"
      },
      "execution_count": null,
      "outputs": []
    },
    {
      "cell_type": "markdown",
      "source": [
        "# **Q2-Count the all types of unique rating & which rating are with most number**"
      ],
      "metadata": {
        "id": "nZ10-9Vilm8T"
      }
    },
    {
      "cell_type": "code",
      "source": [
        "# Count unique ratings\n",
        "rating_counts = df['rating'].value_counts()\n",
        "\n",
        "print(\"Unique Ratings and their counts:\\n\", rating_counts)\n",
        "\n",
        "# Rating with the most number\n",
        "top_rating = rating_counts.idxmax()\n",
        "top_count = rating_counts.max()\n",
        "\n",
        "print(f\"\\nThe rating with the most titles is '{top_rating}' with {top_count} shows/movies.\")\n"
      ],
      "metadata": {
        "colab": {
          "base_uri": "https://localhost:8080/"
        },
        "id": "m-HulA5mlsd3",
        "outputId": "744daa5f-af21-4db5-9040-003df5a30639"
      },
      "execution_count": 28,
      "outputs": [
        {
          "output_type": "stream",
          "name": "stdout",
          "text": [
            "Unique Ratings and their counts:\n",
            " rating\n",
            "TV-MA        3205\n",
            "TV-14        2157\n",
            "TV-PG         861\n",
            "R             799\n",
            "PG-13         490\n",
            "TV-Y7         333\n",
            "TV-Y          306\n",
            "PG            287\n",
            "TV-G          220\n",
            "NR             79\n",
            "G              41\n",
            "TV-Y7-FV        6\n",
            "Not Rated       4\n",
            "NC-17           3\n",
            "UR              3\n",
            "66 min          1\n",
            "74 min          1\n",
            "84 min          1\n",
            "Name: count, dtype: int64\n",
            "\n",
            "The rating with the most titles is 'TV-MA' with 3205 shows/movies.\n"
          ]
        }
      ]
    },
    {
      "cell_type": "code",
      "source": [
        "import matplotlib.pyplot as plt\n",
        "import seaborn as sns\n",
        "\n",
        "plt.figure(figsize=(10,6))\n",
        "sns.barplot(x=rating_counts.values, y=rating_counts.index, palette=\"viridis\")\n",
        "plt.title(\"Count of Titles by Rating\")\n",
        "plt.xlabel(\"Number of Titles\")\n",
        "plt.ylabel(\"Rating\")\n",
        "plt.show()\n"
      ],
      "metadata": {
        "colab": {
          "base_uri": "https://localhost:8080/",
          "height": 671
        },
        "id": "uu7fkFeMlyoV",
        "outputId": "73fa4f3f-5c70-4a10-eb16-bc20a14757de"
      },
      "execution_count": 29,
      "outputs": [
        {
          "output_type": "stream",
          "name": "stderr",
          "text": [
            "/tmp/ipython-input-3958905636.py:5: FutureWarning: \n",
            "\n",
            "Passing `palette` without assigning `hue` is deprecated and will be removed in v0.14.0. Assign the `y` variable to `hue` and set `legend=False` for the same effect.\n",
            "\n",
            "  sns.barplot(x=rating_counts.values, y=rating_counts.index, palette=\"viridis\")\n"
          ]
        },
        {
          "output_type": "display_data",
          "data": {
            "text/plain": [
              "<Figure size 1000x600 with 1 Axes>"
            ],
            "image/png": "[encoded data removed]"
          },
          "metadata": {}
        }
      ]
    },
    {
      "cell_type": "markdown",
      "source": [
        "# **Q3-Salman, Shah Rukh and Akshay Kumar all movie**"
      ],
      "metadata": {
        "id": "ssw8wSc3l6z1"
      }
    },
    {
      "cell_type": "code",
      "source": [
        "# Filter only Movies\n",
        "movies = df[df['type'] == 'Movie']\n",
        "\n",
        "# Salman Khan movies\n",
        "salman_movies = movies[movies['cast'].str.contains(\"Salman Khan\", na=False)]\n",
        "\n",
        "# Shah Rukh Khan movies\n",
        "srk_movies = movies[movies['cast'].str.contains(\"Shah Rukh Khan\", na=False)]\n",
        "\n",
        "# Akshay Kumar movies\n",
        "akshay_movies = movies[movies['cast'].str.contains(\"Akshay Kumar\", na=False)]\n",
        "\n",
        "print(\"Salman Khan Movies:\\n\", salman_movies[['title','release_year','rating']])\n",
        "print(\"\\nShah Rukh Khan Movies:\\n\", srk_movies[['title','release_year','rating']])\n",
        "print(\"\\nAkshay Kumar Movies:\\n\", akshay_movies[['title','release_year','rating']])\n"
      ],
      "metadata": {
        "colab": {
          "base_uri": "https://localhost:8080/"
        },
        "id": "JmtAk3T1mAUZ",
        "outputId": "60a4e02c-9d05-42ab-ef2e-09e1b61eca5b"
      },
      "execution_count": 30,
      "outputs": [
        {
          "output_type": "stream",
          "name": "stdout",
          "text": [
            "Salman Khan Movies:\n",
            "                                          title  release_year rating\n",
            "1441                             Hello Brother          1999  TV-14\n",
            "1674                                 Bodyguard          2011  TV-14\n",
            "2339                      Prem Ratan Dhan Payo          2015  TV-14\n",
            "2545                           Andaz Apna Apna          1994  TV-14\n",
            "2734                        Kuch Kuch Hota Hai          1998  TV-14\n",
            "2756                                 Paharganj          2019  TV-MA\n",
            "2957                       Hum Aapke Hain Koun          1994  TV-14\n",
            "2969                     Together For Eternity          1999   TV-G\n",
            "4729                     Main aurr Mrs. Khanna          2009  TV-14\n",
            "5718                           Mumbai Cha Raja          2012  TV-MA\n",
            "6440                            Chal Mere Bhai          2000  TV-14\n",
            "7022                      Hum Saath-Saath Hain          1999   TV-G\n",
            "7109  Jaan-E-Mann: Let's Fall in Love... Again          2006  TV-14\n",
            "7144                                    Judwaa          1997  TV-14\n",
            "7360                   Lucky: No Time for Love          2005  TV-14\n",
            "7386                     Maine Pyaar Kyun Kiya          2005  TV-14\n",
            "7387                           Maine Pyar Kiya          1989  TV-PG\n",
            "7524                      Mujhse Shaadi Karogi          2004  TV-PG\n",
            "7590                                  No Entry          2005  TV-PG\n",
            "7837                                     Ready          2011  TV-PG\n",
            "\n",
            "Shah Rukh Khan Movies:\n",
            "                                                   title  release_year rating\n",
            "114                                              Anjaam          1994  TV-14\n",
            "301                                     Chennai Express          2013  TV-14\n",
            "2722                                          Duplicate          1998  TV-14\n",
            "2730                             Kabhi Alvida Naa Kehna          2006  TV-14\n",
            "2731                           Kabhi Khushi Kabhie Gham          2001  TV-14\n",
            "2732                                      Kal Ho Naa Ho          2003  TV-14\n",
            "2734                                 Kuch Kuch Hota Hai          1998  TV-14\n",
            "3133                                                Don          2006  TV-14\n",
            "3134                                              Don 2          2011  TV-14\n",
            "3376  My Next Guest with David Letterman and Shah Ru...          2019  TV-PG\n",
            "4792                                      Chalte Chalte          2003  TV-14\n",
            "4948                                              Billu          2009  TV-PG\n",
            "4952                                       Main Hoon Na          2004  TV-14\n",
            "4954                                       Om Shanti Om          2007  TV-14\n",
            "4955                                             Paheli          2005  TV-PG\n",
            "4956                        Phir Bhi Dil Hai Hindustani          2000  TV-14\n",
            "5007                                             Dil Se          1998  TV-14\n",
            "5014                                             Swades          2004  TV-PG\n",
            "5135                                Jab Harry Met Sejal          2017  TV-MA\n",
            "5455                                       Maya Memsaab          1993  TV-14\n",
            "5460                           Oh Darling Yeh Hai India          1995  TV-14\n",
            "5472                                              Raees          2017  TV-14\n",
            "5481                                          Chamatkar          1992  TV-14\n",
            "5482                               Kabhi Haan Kabhi Naa          1994  TV-14\n",
            "5485                                          Ram Jaane          1995  TV-14\n",
            "5499                                            Chaahat          1996  TV-14\n",
            "5500                              English Babu Desi Mem          1996  TV-14\n",
            "5515                                       Dear Zindagi          2016  TV-14\n",
            "5571                                              Asoka          2001      R\n",
            "5574                                         One 2 Ka 4          2001  TV-14\n",
            "5616                                            Dilwale          2015  TV-PG\n",
            "5617                                     Happy New Year          2014  TV-14\n",
            "7706                                             Pardes          1997  TV-14\n",
            "7994                                  Shakti: The Power          2002  TV-MA\n",
            "8629                                           Trimurti          1995  TV-PG\n",
            "\n",
            "Akshay Kumar Movies:\n",
            "                                          title  release_year rating\n",
            "209        Once Upon a Time in Mumbai Dobaara!          2013  TV-14\n",
            "1305                      Awara Paagal Deewana          2002  TV-14\n",
            "1865                           Phir Hera Pheri          2006  TV-14\n",
            "1946                                   Welcome          2007  TV-PG\n",
            "2268                                      Boss          2013  TV-14\n",
            "2273                            Gabbar Is Back          2015  TV-14\n",
            "2281                                 Oh My God          2012  TV-PG\n",
            "2289                                Special 26          2013  TV-PG\n",
            "2544                            Action Replayy          2010  TV-PG\n",
            "2716                                  Brothers          2015  TV-14\n",
            "3494                   Inside Man: Most Wanted          2019      R\n",
            "4679                              Naam Shabana          2017  TV-14\n",
            "4693                                   Pad Man          2018  PG-13\n",
            "4694                     Toilet: Ek Prem Katha          2017  TV-14\n",
            "4728                                     Joker          2012  TV-PG\n",
            "4733                             Rowdy Rathore          2012  TV-14\n",
            "4736                                 Thank You          2011  TV-14\n",
            "4797                           Namastey London          2007  TV-14\n",
            "6107                                   Aitraaz          2004  TV-14\n",
            "6289                                   Bewafaa          2005  TV-PG\n",
            "6296                               Bhagam Bhag          2006  TV-14\n",
            "6298                           Bhool Bhulaiyaa          2007  TV-14\n",
            "7023                    Humko Deewana Kar Gaye          2006  TV-PG\n",
            "7079                                     Insan          2005  TV-14\n",
            "7109  Jaan-E-Mann: Let's Fall in Love... Again          2006  TV-14\n",
            "7524                      Mujhse Shaadi Karogi          2004  TV-PG\n",
            "7712                             Patiala House          2011  TV-PG\n",
            "7910                                    Rustom          2016  TV-14\n",
            "8161                            Tees Maar Khan          2010  TV-PG\n",
            "8504                             The Shaukeens          2014  TV-MA\n"
          ]
        }
      ]
    },
    {
      "cell_type": "code",
      "source": [],
      "metadata": {
        "id": "xbiSAzoKmPYT"
      },
      "execution_count": null,
      "outputs": []
    },
    {
      "cell_type": "markdown",
      "source": [
        "# **Q4-Find out the Movies & Series have Maximum time length**"
      ],
      "metadata": {
        "id": "MDYu1NBymgQf"
      }
    },
    {
      "cell_type": "code",
      "source": [
        "# Longest Movie\n",
        "longest_movie = df[df['type']=='Movie'].loc[df['duration_min'].idxmax(), ['title','duration_min','release_year']]\n",
        "\n",
        "# Longest TV Show (by seasons)\n",
        "longest_tvshow = df[df['type']=='TV Show'].loc[df['seasons'].idxmax(), ['title','seasons','release_year']]\n",
        "\n",
        "print(\"Longest Movie on Netflix:\\n\", longest_movie)\n",
        "print(\"\\nLongest TV Show on Netflix:\\n\", longest_tvshow)\n"
      ],
      "metadata": {
        "colab": {
          "base_uri": "https://localhost:8080/"
        },
        "id": "FRNChCX2mjzc",
        "outputId": "223e571d-bbd9-485a-aef0-e27c8ab8b73e"
      },
      "execution_count": 31,
      "outputs": [
        {
          "output_type": "stream",
          "name": "stdout",
          "text": [
            "Longest Movie on Netflix:\n",
            " title           Black Mirror: Bandersnatch\n",
            "duration_min                         312.0\n",
            "release_year                          2018\n",
            "Name: 4253, dtype: object\n",
            "\n",
            "Longest TV Show on Netflix:\n",
            " title           Grey's Anatomy\n",
            "seasons                   17.0\n",
            "release_year              2020\n",
            "Name: 548, dtype: object\n"
          ]
        }
      ]
    },
    {
      "cell_type": "code",
      "source": [
        "import matplotlib.pyplot as plt\n",
        "import seaborn as sns\n",
        "\n",
        "# Top 5 longest movies\n",
        "top_movies = df[df['type']=='Movie'].nlargest(5, 'duration_min')[['title','duration_min']]\n",
        "\n",
        "# Top 5 longest TV Shows\n",
        "top_tvshows = df[df['type']=='TV Show'].nlargest(5, 'seasons')[['title','seasons']]\n",
        "\n",
        "# Plot movies\n",
        "plt.figure(figsize=(10,5))\n",
        "sns.barplot(x='duration_min', y='title', data=top_movies, palette=\"Blues_d\")\n",
        "plt.title(\"Top 5 Longest Movies on Netflix (Minutes)\")\n",
        "plt.xlabel(\"Duration (Minutes)\")\n",
        "plt.ylabel(\"Movie Title\")\n",
        "plt.show()\n",
        "\n",
        "# Plot TV shows\n",
        "plt.figure(figsize=(10,5))\n",
        "sns.barplot(x='seasons', y='title', data=top_tvshows, palette=\"Greens_d\")\n",
        "plt.title(\"Top 5 Longest TV Shows on Netflix (Seasons)\")\n",
        "plt.xlabel(\"Number of Seasons\")\n",
        "plt.ylabel(\"TV Show Title\")\n",
        "plt.show()\n"
      ],
      "metadata": {
        "colab": {
          "base_uri": "https://localhost:8080/",
          "height": 1000
        },
        "id": "w-rT2D9emrb4",
        "outputId": "5903bc79-8407-4cfc-eb8a-6f7bb0d8076b"
      },
      "execution_count": 32,
      "outputs": [
        {
          "output_type": "stream",
          "name": "stderr",
          "text": [
            "/tmp/ipython-input-1049355698.py:12: FutureWarning: \n",
            "\n",
            "Passing `palette` without assigning `hue` is deprecated and will be removed in v0.14.0. Assign the `y` variable to `hue` and set `legend=False` for the same effect.\n",
            "\n",
            "  sns.barplot(x='duration_min', y='title', data=top_movies, palette=\"Blues_d\")\n"
          ]
        },
        {
          "output_type": "display_data",
          "data": {
            "text/plain": [
              "<Figure size 1000x500 with 1 Axes>"
            ],
            "image/png": "[encoded data removed]"
          },
          "metadata": {}
        },
        {
          "output_type": "stream",
          "name": "stderr",
          "text": [
            "/tmp/ipython-input-1049355698.py:20: FutureWarning: \n",
            "\n",
            "Passing `palette` without assigning `hue` is deprecated and will be removed in v0.14.0. Assign the `y` variable to `hue` and set `legend=False` for the same effect.\n",
            "\n",
            "  sns.barplot(x='seasons', y='title', data=top_tvshows, palette=\"Greens_d\")\n"
          ]
        },
        {
          "output_type": "display_data",
          "data": {
            "text/plain": [
              "<Figure size 1000x500 with 1 Axes>"
            ],
            "image/png": "[encoded data removed]"
          },
          "metadata": {}
        }
      ]
    },
    {
      "cell_type": "code",
      "source": [],
      "metadata": {
        "id": "uKMJVhGnm1Yk"
      },
      "execution_count": null,
      "outputs": []
    },
    {
      "cell_type": "markdown",
      "source": [
        "**Q5-Year on Year show added on Netflix by its type**"
      ],
      "metadata": {
        "id": "9mSP39pwnCAm"
      }
    },
    {
      "cell_type": "code",
      "source": [
        "import matplotlib.pyplot as plt\n",
        "import seaborn as sns\n",
        "\n",
        "# Group by year and type\n",
        "yearly_additions = df.groupby(['year_added', 'type']).size().reset_index(name='count')\n",
        "\n",
        "# Plot\n",
        "plt.figure(figsize=(12,6))\n",
        "sns.lineplot(x='year_added', y='count', hue='type', marker='o', data=yearly_additions)\n",
        "\n",
        "plt.title(\"Year-on-Year Content Added on Netflix by Type\")\n",
        "plt.xlabel(\"Year Added\")\n",
        "plt.ylabel(\"Number of Titles Added\")\n",
        "plt.legend(title=\"Type\")\n",
        "plt.grid(True, linestyle=\"--\", alpha=0.5)\n",
        "plt.show()\n"
      ],
      "metadata": {
        "colab": {
          "base_uri": "https://localhost:8080/",
          "height": 619
        },
        "id": "w7vk219UnEfR",
        "outputId": "7b724f2f-88cc-444e-ca5e-75d02724994d"
      },
      "execution_count": 33,
      "outputs": [
        {
          "output_type": "stream",
          "name": "stderr",
          "text": [
            "/tmp/ipython-input-2780588130.py:5: FutureWarning: The default of observed=False is deprecated and will be changed to True in a future version of pandas. Pass observed=False to retain current behavior or observed=True to adopt the future default and silence this warning.\n",
            "  yearly_additions = df.groupby(['year_added', 'type']).size().reset_index(name='count')\n"
          ]
        },
        {
          "output_type": "display_data",
          "data": {
            "text/plain": [
              "<Figure size 1200x600 with 1 Axes>"
            ],
            "image/png": "[encoded data removed]"
          },
          "metadata": {}
        }
      ]
    },
    {
      "cell_type": "code",
      "source": [],
      "metadata": {
        "id": "NjSLVo61nJs4"
      },
      "execution_count": null,
      "outputs": []
    },
    {
      "cell_type": "markdown",
      "source": [
        "# **Q6-Akshay Kumar all comedies movies, Shah Rukh movies with Kajol and Salman-Akshay Movies**"
      ],
      "metadata": {
        "id": "K6e5llfanQBD"
      }
    },
    {
      "cell_type": "code",
      "source": [
        "akshay_comedy = df[\n",
        "    (df['cast'].str.contains(\"Akshay Kumar\", na=False)) &\n",
        "    (df['listed_in'].str.contains(\"Comedies\", na=False)) &\n",
        "    (df['type'] == \"Movie\")\n",
        "]\n",
        "\n",
        "print(\"Akshay Kumar Comedy Movies:\")\n",
        "print(akshay_comedy[['title', 'type', 'listed_in']])\n"
      ],
      "metadata": {
        "colab": {
          "base_uri": "https://localhost:8080/"
        },
        "id": "LjpI9BFqnWM9",
        "outputId": "efa53760-68e3-41c8-ebf3-04dba219de19"
      },
      "execution_count": 37,
      "outputs": [
        {
          "output_type": "stream",
          "name": "stdout",
          "text": [
            "Akshay Kumar Comedy Movies:\n",
            "                      title   type  \\\n",
            "1305   Awara Paagal Deewana  Movie   \n",
            "1865        Phir Hera Pheri  Movie   \n",
            "1946                Welcome  Movie   \n",
            "2268                   Boss  Movie   \n",
            "2281              Oh My God  Movie   \n",
            "2544         Action Replayy  Movie   \n",
            "4694  Toilet: Ek Prem Katha  Movie   \n",
            "4728                  Joker  Movie   \n",
            "4733          Rowdy Rathore  Movie   \n",
            "4736              Thank You  Movie   \n",
            "4797        Namastey London  Movie   \n",
            "6296            Bhagam Bhag  Movie   \n",
            "7524   Mujhse Shaadi Karogi  Movie   \n",
            "8161         Tees Maar Khan  Movie   \n",
            "8504          The Shaukeens  Movie   \n",
            "\n",
            "                                              listed_in  \n",
            "1305               Action & Adventure, Comedies, Dramas  \n",
            "1865                     Comedies, International Movies  \n",
            "1946   Comedies, International Movies, Music & Musicals  \n",
            "2268               Action & Adventure, Comedies, Dramas  \n",
            "2281             Comedies, Dramas, International Movies  \n",
            "2544  Children & Family Movies, Comedies, Internatio...  \n",
            "4694             Comedies, Dramas, International Movies  \n",
            "4728   Comedies, International Movies, Music & Musicals  \n",
            "4733  Action & Adventure, Comedies, International Mo...  \n",
            "4736    Comedies, International Movies, Romantic Movies  \n",
            "4797             Comedies, Dramas, International Movies  \n",
            "6296    Comedies, International Movies, Romantic Movies  \n",
            "7524    Comedies, International Movies, Romantic Movies  \n",
            "8161   Comedies, International Movies, Music & Musicals  \n",
            "8504   Comedies, International Movies, Music & Musicals  \n"
          ]
        }
      ]
    },
    {
      "cell_type": "markdown",
      "source": [
        "**Shah Rukh movies with Kajol**"
      ],
      "metadata": {
        "id": "b_JchTuqn5XQ"
      }
    },
    {
      "cell_type": "code",
      "source": [
        "srk_kajol = df[\n",
        "    (df['cast'].str.contains(\"Shah Rukh Khan\", na=False)) &\n",
        "    (df['cast'].str.contains(\"Kajol\", na=False)) &\n",
        "    (df['type'] == \"Movie\")\n",
        "]\n",
        "\n",
        "print(\"Shah Rukh Khan Movies with Kajol:\")\n",
        "print(srk_kajol[['title', 'type', 'listed_in']])\n"
      ],
      "metadata": {
        "colab": {
          "base_uri": "https://localhost:8080/"
        },
        "id": "IdNhLftXngjE",
        "outputId": "be04e854-72fb-4eee-d199-4ea1b90634c3"
      },
      "execution_count": 35,
      "outputs": [
        {
          "output_type": "stream",
          "name": "stdout",
          "text": [
            "Shah Rukh Khan Movies with Kajol:\n",
            "                         title   type  \\\n",
            "2731  Kabhi Khushi Kabhie Gham  Movie   \n",
            "2734        Kuch Kuch Hota Hai  Movie   \n",
            "5616                   Dilwale  Movie   \n",
            "\n",
            "                                             listed_in  \n",
            "2731                      Dramas, International Movies  \n",
            "2734            Comedies, Dramas, International Movies  \n",
            "5616  Action & Adventure, Dramas, International Movies  \n"
          ]
        }
      ]
    },
    {
      "cell_type": "code",
      "source": [],
      "metadata": {
        "id": "Hm9jHkoooNv_"
      },
      "execution_count": null,
      "outputs": []
    },
    {
      "cell_type": "markdown",
      "source": [
        "**Salman–Akshay Movies**"
      ],
      "metadata": {
        "id": "Vx7pZveioIyC"
      }
    },
    {
      "cell_type": "code",
      "source": [
        "salman_akshay = df[\n",
        "    (df['cast'].str.contains(\"Salman Khan\", na=False)) &\n",
        "    (df['cast'].str.contains(\"Akshay Kumar\", na=False)) &\n",
        "    (df['type'] == \"Movie\")\n",
        "]\n",
        "\n",
        "print(\"Salman Khan & Akshay Kumar Movies:\")\n",
        "print(salman_akshay[['title', 'type', 'listed_in']])\n"
      ],
      "metadata": {
        "colab": {
          "base_uri": "https://localhost:8080/"
        },
        "id": "MS5yYUSroAHm",
        "outputId": "897e7c7f-d37a-48c5-ba87-e47f54698b38"
      },
      "execution_count": 36,
      "outputs": [
        {
          "output_type": "stream",
          "name": "stdout",
          "text": [
            "Salman Khan & Akshay Kumar Movies:\n",
            "                                         title   type  \\\n",
            "7109  Jaan-E-Mann: Let's Fall in Love... Again  Movie   \n",
            "7524                      Mujhse Shaadi Karogi  Movie   \n",
            "\n",
            "                                            listed_in  \n",
            "7109    Dramas, International Movies, Romantic Movies  \n",
            "7524  Comedies, International Movies, Romantic Movies  \n"
          ]
        }
      ]
    },
    {
      "cell_type": "code",
      "source": [],
      "metadata": {
        "id": "w3F5K8h-oSfT"
      },
      "execution_count": null,
      "outputs": []
    },
    {
      "cell_type": "markdown",
      "source": [
        "# **Q7-Who Director has made the most TV Shows**"
      ],
      "metadata": {
        "id": "SgoukILZoYPw"
      }
    },
    {
      "cell_type": "code",
      "source": [
        "import matplotlib.pyplot as plt\n",
        "import seaborn as sns\n",
        "\n",
        "# Filter for TV shows\n",
        "tv_shows = df[df['type'] == 'TV Show']\n",
        "\n",
        "# Count TV shows per director\n",
        "director_tv_counts = tv_shows['director'].value_counts().reset_index(name='count')\n",
        "director_tv_counts.rename(columns={'index': 'director'}, inplace=True)\n",
        "\n",
        "# Exclude 'Unknown' director\n",
        "director_tv_counts = director_tv_counts[director_tv_counts['director'] != 'Unknown']\n",
        "\n",
        "# Get the top 10 directors\n",
        "top10_directors = director_tv_counts.head(10)\n",
        "\n",
        "plt.figure(figsize=(10,6))\n",
        "sns.barplot(x='count', y='director', data=top10_directors, palette=\"viridis\")\n",
        "plt.xlabel(\"Number of TV Shows\")\n",
        "plt.ylabel(\"Director\")\n",
        "plt.title(\"Top 10 Directors with Most TV Shows on Netflix\")\n",
        "plt.gca().invert_yaxis()\n",
        "plt.show()"
      ],
      "metadata": {
        "colab": {
          "base_uri": "https://localhost:8080/",
          "height": 671
        },
        "id": "ZAUpIwV2ocPu",
        "outputId": "aabfce22-93c2-4118-fc09-5fbce60ad58f"
      },
      "execution_count": 40,
      "outputs": [
        {
          "output_type": "stream",
          "name": "stderr",
          "text": [
            "/tmp/ipython-input-2788122026.py:18: FutureWarning: \n",
            "\n",
            "Passing `palette` without assigning `hue` is deprecated and will be removed in v0.14.0. Assign the `y` variable to `hue` and set `legend=False` for the same effect.\n",
            "\n",
            "  sns.barplot(x='count', y='director', data=top10_directors, palette=\"viridis\")\n"
          ]
        },
        {
          "output_type": "display_data",
          "data": {
            "text/plain": [
              "<Figure size 1000x600 with 1 Axes>"
            ],
            "image/png": "[encoded data removed]"
          },
          "metadata": {}
        }
      ]
    },
    {
      "cell_type": "code",
      "source": [],
      "metadata": {
        "id": "Z7ka4K5coode"
      },
      "execution_count": null,
      "outputs": []
    },
    {
      "cell_type": "markdown",
      "source": [
        "# **Q8-Actors and Actress who have given most Number of Movies**"
      ],
      "metadata": {
        "id": "kRSnHWJHpK-W"
      }
    },
    {
      "cell_type": "code",
      "source": [],
      "metadata": {
        "id": "76zfuzsPpNnl"
      },
      "execution_count": null,
      "outputs": []
    },
    {
      "cell_type": "code",
      "metadata": {
        "colab": {
          "base_uri": "https://localhost:8080/"
        },
        "id": "733bc9b0",
        "outputId": "0d75f96b-b4d6-47d2-cecd-d7de679d17ae"
      },
      "source": [
        "# Filter for movies\n",
        "movies_df = df[df['type'] == 'Movie'].copy()\n",
        "\n",
        "# Split the 'cast' string into individual names and explode the DataFrame\n",
        "movies_df['cast'] = movies_df['cast'].str.split(', ')\n",
        "cast_counts = movies_df.explode('cast')['cast'].value_counts()\n",
        "\n",
        "# Exclude 'Unknown' cast\n",
        "cast_counts = cast_counts[cast_counts.index != 'Unknown']\n",
        "\n",
        "# Display the top 10 actors/actresses with the most movies\n",
        "print(\"Top 10 Actors/Actresses with the Most Movies on Netflix:\")\n",
        "print(cast_counts.head(10))"
      ],
      "execution_count": 41,
      "outputs": [
        {
          "output_type": "stream",
          "name": "stdout",
          "text": [
            "Top 10 Actors/Actresses with the Most Movies on Netflix:\n",
            "cast\n",
            "Anupam Kher         42\n",
            "Shah Rukh Khan      35\n",
            "Naseeruddin Shah    32\n",
            "Om Puri             30\n",
            "Akshay Kumar        30\n",
            "Amitabh Bachchan    28\n",
            "Paresh Rawal        28\n",
            "Julie Tejwani       28\n",
            "Rupa Bhimani        27\n",
            "Boman Irani         27\n",
            "Name: count, dtype: int64\n"
          ]
        }
      ]
    },
    {
      "cell_type": "code",
      "source": [],
      "metadata": {
        "id": "9fVD7LFApaYJ"
      },
      "execution_count": 43,
      "outputs": []
    },
    {
      "cell_type": "code",
      "source": [],
      "metadata": {
        "id": "1-l7GQ-Xpa8Q"
      },
      "execution_count": null,
      "outputs": []
    },
    {
      "cell_type": "code",
      "metadata": {
        "colab": {
          "base_uri": "https://localhost:8080/",
          "height": 671
        },
        "id": "761fee23",
        "outputId": "8107dd45-1181-4f56-ccfc-a4411867a764"
      },
      "source": [
        "import matplotlib.pyplot as plt\n",
        "import seaborn as sns\n",
        "\n",
        "# Plot the top 10 actors/actresses\n",
        "plt.figure(figsize=(10, 6))\n",
        "sns.barplot(x=cast_counts.head(10).values, y=cast_counts.head(10).index, palette='viridis')\n",
        "plt.title(\"Top 10 Actors/Actresses with Most Movies on Netflix\")\n",
        "plt.xlabel(\"Number of Movies\")\n",
        "plt.ylabel(\"Actor/Actress\")\n",
        "plt.show()"
      ],
      "execution_count": 44,
      "outputs": [
        {
          "output_type": "stream",
          "name": "stderr",
          "text": [
            "/tmp/ipython-input-2962965498.py:6: FutureWarning: \n",
            "\n",
            "Passing `palette` without assigning `hue` is deprecated and will be removed in v0.14.0. Assign the `y` variable to `hue` and set `legend=False` for the same effect.\n",
            "\n",
            "  sns.barplot(x=cast_counts.head(10).values, y=cast_counts.head(10).index, palette='viridis')\n"
          ]
        },
        {
          "output_type": "display_data",
          "data": {
            "text/plain": [
              "<Figure size 1000x600 with 1 Axes>"
            ],
            "image/png": "[encoded data removed]"
          },
          "metadata": {}
        }
      ]
    },
    {
      "cell_type": "code",
      "source": [],
      "metadata": {
        "id": "uMCKegAGqAnc"
      },
      "execution_count": null,
      "outputs": []
    },
    {
      "cell_type": "markdown",
      "source": [
        "# **Q9-Find out which types of genre has most movies and TV Shows**"
      ],
      "metadata": {
        "id": "_GoxC6vjqA9u"
      }
    },
    {
      "cell_type": "code",
      "source": [],
      "metadata": {
        "id": "Kghtlq56qDPU"
      },
      "execution_count": null,
      "outputs": []
    },
    {
      "cell_type": "code",
      "metadata": {
        "colab": {
          "base_uri": "https://localhost:8080/"
        },
        "id": "105f1d75",
        "outputId": "5f292e0f-a478-4e85-cd57-1d2247d5ad36"
      },
      "source": [
        "# Split the 'listed_in' column and count genres for both movies and TV shows\n",
        "genres_df = df.copy()\n",
        "genres_df['listed_in'] = genres_df['listed_in'].str.split(', ')\n",
        "genre_counts = genres_df.explode('listed_in')['listed_in'].value_counts()\n",
        "\n",
        "# Display the top 10 genres\n",
        "print(\"Top 10 Genres with the Most Titles on Netflix:\")\n",
        "print(genre_counts.head(10))"
      ],
      "execution_count": 46,
      "outputs": [
        {
          "output_type": "stream",
          "name": "stdout",
          "text": [
            "Top 10 Genres with the Most Titles on Netflix:\n",
            "listed_in\n",
            "International Movies        2752\n",
            "Dramas                      2427\n",
            "Comedies                    1674\n",
            "International TV Shows      1350\n",
            "Documentaries                869\n",
            "Action & Adventure           859\n",
            "TV Dramas                    762\n",
            "Independent Movies           756\n",
            "Children & Family Movies     641\n",
            "Romantic Movies              616\n",
            "Name: count, dtype: int64\n"
          ]
        }
      ]
    },
    {
      "cell_type": "code",
      "metadata": {
        "colab": {
          "base_uri": "https://localhost:8080/",
          "height": 671
        },
        "id": "b26cc621",
        "outputId": "ffa69925-3afe-4b94-cbe5-af4a22ec9b0c"
      },
      "source": [
        "import matplotlib.pyplot as plt\n",
        "import seaborn as sns\n",
        "\n",
        "# Plot the top 10 genres\n",
        "plt.figure(figsize=(12, 6))\n",
        "sns.barplot(x=genre_counts.head(10).values, y=genre_counts.head(10).index, palette='viridis')\n",
        "plt.title(\"Top 10 Genres on Netflix\")\n",
        "plt.xlabel(\"Number of Titles\")\n",
        "plt.ylabel(\"Genre\")\n",
        "plt.show()"
      ],
      "execution_count": 47,
      "outputs": [
        {
          "output_type": "stream",
          "name": "stderr",
          "text": [
            "/tmp/ipython-input-41048527.py:6: FutureWarning: \n",
            "\n",
            "Passing `palette` without assigning `hue` is deprecated and will be removed in v0.14.0. Assign the `y` variable to `hue` and set `legend=False` for the same effect.\n",
            "\n",
            "  sns.barplot(x=genre_counts.head(10).values, y=genre_counts.head(10).index, palette='viridis')\n"
          ]
        },
        {
          "output_type": "display_data",
          "data": {
            "text/plain": [
              "<Figure size 1200x600 with 1 Axes>"
            ],
            "image/png": "[encoded data removed]"
          },
          "metadata": {}
        }
      ]
    }
  ]
}